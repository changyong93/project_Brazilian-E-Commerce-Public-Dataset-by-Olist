{
 "cells": [
  {
   "cell_type": "markdown",
   "metadata": {},
   "source": [
    "# import modules"
   ]
  },
  {
   "cell_type": "code",
   "execution_count": 3,
   "metadata": {},
   "outputs": [],
   "source": [
    "import pandas as pd\n",
    "import numpy as np\n",
    "import matplotlib.pyplot as plt\n",
    "import seaborn as sns\n",
    "import warnings\n",
    "import missingno as msno\n",
    "from os import walk\n",
    "from datetime import datetime, timedelta\n",
    "import datetime as dt\n",
    "plt.style.use(\"seaborn-darkgrid\")\n",
    "plt.rc(\"font\",family = \"Malgun Gothic\")\n",
    "plt.rc(\"axes\",unicode_minus = False)\n",
    "\n",
    "warnings.filterwarnings(action = \"ignore\")\n",
    "pd.options.display.max_rows=100"
   ]
  },
  {
   "cell_type": "markdown",
   "metadata": {},
   "source": [
    "# load files"
   ]
  },
  {
   "cell_type": "code",
   "execution_count": 4,
   "metadata": {},
   "outputs": [
    {
     "data": {
      "text/plain": [
       "('./data',\n",
       " ['.ipynb_checkpoints'],\n",
       " ['ddd.xlsx',\n",
       "  'NATIONAL REPORT ON E-COMMERCE.pdf',\n",
       "  'olist_closed_deals_dataset.csv',\n",
       "  'olist_customers_dataset.csv',\n",
       "  'olist_geolocation_dataset.csv',\n",
       "  'olist_marketing_qualified_leads_dataset.csv',\n",
       "  'olist_orders_dataset.csv',\n",
       "  'olist_order_items_dataset.csv',\n",
       "  'olist_order_payments_dataset.csv',\n",
       "  'olist_order_reviews_dataset.csv',\n",
       "  'olist_products_dataset.csv',\n",
       "  'olist_sellers_dataset.csv',\n",
       "  'product_category_name_translation.csv'])"
      ]
     },
     "execution_count": 4,
     "metadata": {},
     "output_type": "execute_result"
    }
   ],
   "source": [
    "next(walk(\"./data\"))"
   ]
  },
  {
   "cell_type": "code",
   "execution_count": 44,
   "metadata": {},
   "outputs": [],
   "source": [
    "product_category_name_translation = pd.read_csv(\"./data/product_category_name_translation.csv\")\n",
    "olist_products = pd.read_csv(\"./data/olist_products_dataset.csv\")\n",
    "olist_order_items = pd.read_csv(\"./data/olist_order_items_dataset.csv\")\n",
    "olist_sellers = pd.read_csv(\"./data/olist_sellers_dataset.csv\")\n",
    "olist_orders = pd.read_csv(\"./data/olist_orders_dataset.csv\")\n",
    "olist_customers = pd.read_csv(\"./data/olist_customers_dataset.csv\")\n",
    "olist_order_payments = pd.read_csv(\"./data/olist_order_payments_dataset.csv\")\n",
    "olist_order_reviews = pd.read_csv(\"./data/olist_order_reviews_dataset.csv\")\n",
    "\n",
    "olist_geolocation = pd.read_csv(\"./data/olist_geolocation_dataset.csv\")\n",
    "\n",
    "olist_closed_deals = pd.read_csv(\"./data/olist_closed_deals_dataset.csv\")\n",
    "olist_marketing_qualified_leads = pd.read_csv(\"./data/olist_marketing_qualified_leads_dataset.csv\")"
   ]
  },
  {
   "cell_type": "markdown",
   "metadata": {},
   "source": [
    "**데이터타입변경**"
   ]
  },
  {
   "cell_type": "code",
   "execution_count": 45,
   "metadata": {},
   "outputs": [],
   "source": [
    "# olist_orders\n",
    "column_list= [\"order_purchase_timestamp\",\"order_approved_at\",\"order_delivered_carrier_date\",\n",
    "               \"order_delivered_customer_date\",\"order_estimated_delivery_date\"]\n",
    "olist_orders[column_list] = olist_orders[column_list].apply(pd.to_datetime)\n",
    "# olist_order_items\n",
    "olist_order_items[\"shipping_limit_date\"] = olist_order_items.shipping_limit_date.apply(pd.to_datetime)\n",
    "\n",
    "# olist_order_reviews\n",
    "column_list = [\"review_creation_date\",\"review_answer_timestamp\"]\n",
    "olist_order_reviews[column_list] = olist_order_reviews[column_list].apply(pd.to_datetime)\n"
   ]
  },
  {
   "cell_type": "markdown",
   "metadata": {},
   "source": [
    "# merge all"
   ]
  },
  {
   "cell_type": "markdown",
   "metadata": {},
   "source": [
    "**olist_products_eng = olist_products + olist_products_replace_cat_name**  \n",
    "**temp0 = olist_order_items + olist_products_eng**  \n",
    "**temp1 = olist_sellers + olist_order_items**  \n",
    "**temp2 = temp1 + olist_orders**  \n",
    "**temp3 = temp2 + olist_customers**  \n",
    "**temp4 = temp3 + olist_order_payments**  \n",
    "**temp5 = temp4 + olist_order_reviews**  "
   ]
  },
  {
   "cell_type": "markdown",
   "metadata": {},
   "source": [
    "### 상품명 영어로 변환"
   ]
  },
  {
   "cell_type": "code",
   "execution_count": 46,
   "metadata": {},
   "outputs": [],
   "source": [
    "olist_products_replace_cat_name = olist_products.copy()\n",
    "#상품명 통일\n",
    "olist_products_replace_cat_name.loc[olist_products_replace_cat_name.product_category_name.str.contains(\"^portateis\")==True,\"product_category_name\"] = \"portateis_casa_forno_e_cafe\"\n",
    "olist_products_replace_cat_name.loc[olist_products_replace_cat_name.product_category_name.str.contains(\"^pc\")==True,\"product_category_name\"] = \"pcs\"\n",
    "#상품명 영어로 변환\n",
    "olist_products_eng = pd.merge(olist_products_replace_cat_name, product_category_name_translation, on = \"product_category_name\", how = \"left\")"
   ]
  },
  {
   "cell_type": "markdown",
   "metadata": {},
   "source": [
    "### 결합"
   ]
  },
  {
   "cell_type": "code",
   "execution_count": 47,
   "metadata": {
    "scrolled": false
   },
   "outputs": [],
   "source": [
    "temp0 = pd.merge(olist_order_items,olist_products_eng,on=\"product_id\",how=\"outer\")\n",
    "temp1 = pd.merge(temp0,olist_sellers,on=\"seller_id\",how=\"outer\")\n",
    "temp2 = pd.merge(temp1,olist_orders,on = \"order_id\",how = \"outer\")\n",
    "temp3 = pd.merge(temp2,olist_customers,on = \"customer_id\",how = \"outer\")\n",
    "temp4 = pd.merge(temp3,olist_order_payments,on = \"order_id\",how = \"outer\")\n",
    "temp5= pd.merge(temp4,olist_order_reviews,on = \"order_id\",how = \"outer\")\n",
    "df = temp5.copy()"
   ]
  },
  {
   "cell_type": "markdown",
   "metadata": {},
   "source": [
    "# EDA"
   ]
  },
  {
   "cell_type": "markdown",
   "metadata": {},
   "source": [
    "### 년도-일자 관련 컬럼 생성"
   ]
  },
  {
   "cell_type": "code",
   "execution_count": 41,
   "metadata": {},
   "outputs": [],
   "source": [
    "def generate_from_year_to_day(dataframe, column):\n",
    "    df = dataframe.copy()\n",
    "    df[\"year_month\"] = df[column].astype(str).map(lambda x : pd.to_datetime(x[:7]))\n",
    "#     df[\"year_month\"] = pd.to_datetime(df[column].map(lambda x : x.strftime('%Y-%m')))\n",
    "    df[\"year\"] = df[column].dt.year\n",
    "    df[\"month\"] = df[column].dt.month\n",
    "    df[\"week\"] = df[column].dt.week\n",
    "    df[\"day\"] = df[column].dt.day\n",
    "    df[\"weekday\"] = df[column].dt.weekday\n",
    "    return df"
   ]
  },
  {
   "cell_type": "code",
   "execution_count": 48,
   "metadata": {},
   "outputs": [
    {
     "name": "stdout",
     "output_type": "stream",
     "text": [
      "<class 'pandas.core.frame.DataFrame'>\n",
      "Int64Index: 119151 entries, 0 to 119150\n",
      "Data columns (total 40 columns):\n",
      " #   Column                         Non-Null Count   Dtype         \n",
      "---  ------                         --------------   -----         \n",
      " 0   order_id                       119151 non-null  object        \n",
      " 1   order_item_id                  118318 non-null  float64       \n",
      " 2   product_id                     118318 non-null  object        \n",
      " 3   seller_id                      118318 non-null  object        \n",
      " 4   shipping_limit_date            118318 non-null  datetime64[ns]\n",
      " 5   price                          118318 non-null  float64       \n",
      " 6   freight_value                  118318 non-null  float64       \n",
      " 7   product_category_name          116609 non-null  object        \n",
      " 8   product_name_lenght            116609 non-null  float64       \n",
      " 9   product_description_lenght     116609 non-null  float64       \n",
      " 10  product_photos_qty             116609 non-null  float64       \n",
      " 11  product_weight_g               118298 non-null  float64       \n",
      " 12  product_length_cm              118298 non-null  float64       \n",
      " 13  product_height_cm              118298 non-null  float64       \n",
      " 14  product_width_cm               118298 non-null  float64       \n",
      " 15  product_category_name_english  116609 non-null  object        \n",
      " 16  seller_zip_code_prefix         118318 non-null  float64       \n",
      " 17  seller_city                    118318 non-null  object        \n",
      " 18  seller_state                   118318 non-null  object        \n",
      " 19  customer_id                    119151 non-null  object        \n",
      " 20  order_status                   119151 non-null  object        \n",
      " 21  order_purchase_timestamp       119151 non-null  datetime64[ns]\n",
      " 22  order_approved_at              118974 non-null  datetime64[ns]\n",
      " 23  order_delivered_carrier_date   117065 non-null  datetime64[ns]\n",
      " 24  order_delivered_customer_date  115730 non-null  datetime64[ns]\n",
      " 25  order_estimated_delivery_date  119151 non-null  datetime64[ns]\n",
      " 26  customer_unique_id             119151 non-null  object        \n",
      " 27  customer_zip_code_prefix       119151 non-null  int64         \n",
      " 28  customer_city                  119151 non-null  object        \n",
      " 29  customer_state                 119151 non-null  object        \n",
      " 30  payment_sequential             119148 non-null  float64       \n",
      " 31  payment_type                   119148 non-null  object        \n",
      " 32  payment_installments           119148 non-null  float64       \n",
      " 33  payment_value                  119148 non-null  float64       \n",
      " 34  review_id                      119151 non-null  object        \n",
      " 35  review_score                   119151 non-null  int64         \n",
      " 36  review_comment_title           14189 non-null   object        \n",
      " 37  review_comment_message         51250 non-null   object        \n",
      " 38  review_creation_date           119151 non-null  datetime64[ns]\n",
      " 39  review_answer_timestamp        119151 non-null  datetime64[ns]\n",
      "dtypes: datetime64[ns](8), float64(14), int64(2), object(16)\n",
      "memory usage: 37.3+ MB\n"
     ]
    }
   ],
   "source": [
    "df.info()"
   ]
  },
  {
   "cell_type": "code",
   "execution_count": 50,
   "metadata": {},
   "outputs": [],
   "source": [
    "df = generate_from_year_to_day(df,\"order_purchase_timestamp\").copy()"
   ]
  },
  {
   "cell_type": "code",
   "execution_count": 84,
   "metadata": {
    "scrolled": false
   },
   "outputs": [
    {
     "data": {
      "text/html": [
       "<div>\n",
       "<style scoped>\n",
       "    .dataframe tbody tr th:only-of-type {\n",
       "        vertical-align: middle;\n",
       "    }\n",
       "\n",
       "    .dataframe tbody tr th {\n",
       "        vertical-align: top;\n",
       "    }\n",
       "\n",
       "    .dataframe thead th {\n",
       "        text-align: right;\n",
       "    }\n",
       "</style>\n",
       "<table border=\"1\" class=\"dataframe\">\n",
       "  <thead>\n",
       "    <tr style=\"text-align: right;\">\n",
       "      <th></th>\n",
       "      <th>order_id</th>\n",
       "      <th>order_item_id</th>\n",
       "      <th>product_id</th>\n",
       "      <th>seller_id</th>\n",
       "      <th>shipping_limit_date</th>\n",
       "      <th>price</th>\n",
       "      <th>freight_value</th>\n",
       "      <th>product_category_name</th>\n",
       "      <th>product_name_lenght</th>\n",
       "      <th>product_description_lenght</th>\n",
       "      <th>...</th>\n",
       "      <th>review_comment_title</th>\n",
       "      <th>review_comment_message</th>\n",
       "      <th>review_creation_date</th>\n",
       "      <th>review_answer_timestamp</th>\n",
       "      <th>year_month</th>\n",
       "      <th>year</th>\n",
       "      <th>month</th>\n",
       "      <th>week</th>\n",
       "      <th>day</th>\n",
       "      <th>weekday</th>\n",
       "    </tr>\n",
       "  </thead>\n",
       "  <tbody>\n",
       "    <tr>\n",
       "      <th>null(nb)</th>\n",
       "      <td>0.0</td>\n",
       "      <td>833.0</td>\n",
       "      <td>833.0</td>\n",
       "      <td>833.0</td>\n",
       "      <td>833.0</td>\n",
       "      <td>833.0</td>\n",
       "      <td>833.0</td>\n",
       "      <td>2542.00</td>\n",
       "      <td>2542.00</td>\n",
       "      <td>2542.00</td>\n",
       "      <td>...</td>\n",
       "      <td>104962.00</td>\n",
       "      <td>67901.00</td>\n",
       "      <td>0.0</td>\n",
       "      <td>0.0</td>\n",
       "      <td>0.0</td>\n",
       "      <td>0.0</td>\n",
       "      <td>0.0</td>\n",
       "      <td>0.0</td>\n",
       "      <td>0.0</td>\n",
       "      <td>0.0</td>\n",
       "    </tr>\n",
       "    <tr>\n",
       "      <th>null(%)</th>\n",
       "      <td>0.0</td>\n",
       "      <td>0.7</td>\n",
       "      <td>0.7</td>\n",
       "      <td>0.7</td>\n",
       "      <td>0.7</td>\n",
       "      <td>0.7</td>\n",
       "      <td>0.7</td>\n",
       "      <td>2.13</td>\n",
       "      <td>2.13</td>\n",
       "      <td>2.13</td>\n",
       "      <td>...</td>\n",
       "      <td>88.09</td>\n",
       "      <td>56.99</td>\n",
       "      <td>0.0</td>\n",
       "      <td>0.0</td>\n",
       "      <td>0.0</td>\n",
       "      <td>0.0</td>\n",
       "      <td>0.0</td>\n",
       "      <td>0.0</td>\n",
       "      <td>0.0</td>\n",
       "      <td>0.0</td>\n",
       "    </tr>\n",
       "  </tbody>\n",
       "</table>\n",
       "<p>2 rows × 46 columns</p>\n",
       "</div>"
      ],
      "text/plain": [
       "          order_id  order_item_id  product_id  seller_id  shipping_limit_date  \\\n",
       "null(nb)       0.0          833.0       833.0      833.0                833.0   \n",
       "null(%)        0.0            0.7         0.7        0.7                  0.7   \n",
       "\n",
       "          price  freight_value  product_category_name  product_name_lenght  \\\n",
       "null(nb)  833.0          833.0                2542.00              2542.00   \n",
       "null(%)     0.7            0.7                   2.13                 2.13   \n",
       "\n",
       "          product_description_lenght  ...  review_comment_title  \\\n",
       "null(nb)                     2542.00  ...             104962.00   \n",
       "null(%)                         2.13  ...                 88.09   \n",
       "\n",
       "          review_comment_message  review_creation_date  \\\n",
       "null(nb)                67901.00                   0.0   \n",
       "null(%)                    56.99                   0.0   \n",
       "\n",
       "          review_answer_timestamp  year_month  year  month  week  day  weekday  \n",
       "null(nb)                      0.0         0.0   0.0    0.0   0.0  0.0      0.0  \n",
       "null(%)                       0.0         0.0   0.0    0.0   0.0  0.0      0.0  \n",
       "\n",
       "[2 rows x 46 columns]"
      ]
     },
     "execution_count": 84,
     "metadata": {},
     "output_type": "execute_result"
    }
   ],
   "source": [
    "null_sum = df.isnull().sum().to_frame().rename(columns = {0 : \"null(nb)\"})\n",
    "null_mean = (df.isnull().mean()*100).round(2).to_frame().rename(columns = {0 : \"null(%)\"})\n",
    "pd.merge(null_sum,null_mean,left_index = True, right_index = True, how = \"outer\").T"
   ]
  },
  {
   "cell_type": "code",
   "execution_count": null,
   "metadata": {},
   "outputs": [],
   "source": [
    "df[df.order_item_id.isnull()==False]"
   ]
  }
 ],
 "metadata": {
  "kernelspec": {
   "display_name": "Python 3",
   "language": "python",
   "name": "python3"
  },
  "language_info": {
   "codemirror_mode": {
    "name": "ipython",
    "version": 3
   },
   "file_extension": ".py",
   "mimetype": "text/x-python",
   "name": "python",
   "nbconvert_exporter": "python",
   "pygments_lexer": "ipython3",
   "version": "3.8.3"
  },
  "toc": {
   "base_numbering": 1,
   "nav_menu": {},
   "number_sections": true,
   "sideBar": true,
   "skip_h1_title": false,
   "title_cell": "Table of Contents",
   "title_sidebar": "Contents",
   "toc_cell": false,
   "toc_position": {},
   "toc_section_display": true,
   "toc_window_display": true
  }
 },
 "nbformat": 4,
 "nbformat_minor": 4
}
