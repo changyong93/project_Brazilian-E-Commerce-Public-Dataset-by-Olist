{
 "cells": [
  {
   "cell_type": "code",
   "execution_count": 1,
   "id": "third-three",
   "metadata": {},
   "outputs": [],
   "source": [
    "from google_trans_new import google_translator #구글 번역기\n",
    "import numpy as np\n",
    "import pandas as pd"
   ]
  },
  {
   "cell_type": "markdown",
   "id": "limiting-helping",
   "metadata": {},
   "source": [
    "# 번역할 파일 불러오기"
   ]
  },
  {
   "cell_type": "code",
   "execution_count": 2,
   "id": "fifth-bearing",
   "metadata": {},
   "outputs": [],
   "source": [
    "olist_order_reviews = pd.read_csv(\"./data/olist_order_reviews_dataset_translate.csv\", low_memory=False)"
   ]
  },
  {
   "cell_type": "markdown",
   "id": "middle-petroleum",
   "metadata": {},
   "source": [
    "# translate by google translator\n",
    "- 사용량 제한걸림"
   ]
  },
  {
   "cell_type": "code",
   "execution_count": 4,
   "id": "public-teacher",
   "metadata": {},
   "outputs": [
    {
     "ename": "google_new_transError",
     "evalue": "429 (Too Many Requests) from TTS API. Probable cause: Unknown",
     "output_type": "error",
     "traceback": [
      "\u001b[1;31m---------------------------------------------------------------------------\u001b[0m",
      "\u001b[1;31mHTTPError\u001b[0m                                 Traceback (most recent call last)",
      "\u001b[1;32mC:\\ProgramData\\Anaconda3\\lib\\site-packages\\google_trans_new\\google_trans_new.py\u001b[0m in \u001b[0;36mtranslate\u001b[1;34m(self, text, lang_tgt, lang_src, pronounce)\u001b[0m\n\u001b[0;32m    188\u001b[0m                         \u001b[1;32mraise\u001b[0m \u001b[0me\u001b[0m\u001b[1;33m\u001b[0m\u001b[1;33m\u001b[0m\u001b[0m\n\u001b[1;32m--> 189\u001b[1;33m             \u001b[0mr\u001b[0m\u001b[1;33m.\u001b[0m\u001b[0mraise_for_status\u001b[0m\u001b[1;33m(\u001b[0m\u001b[1;33m)\u001b[0m\u001b[1;33m\u001b[0m\u001b[1;33m\u001b[0m\u001b[0m\n\u001b[0m\u001b[0;32m    190\u001b[0m         \u001b[1;32mexcept\u001b[0m \u001b[0mrequests\u001b[0m\u001b[1;33m.\u001b[0m\u001b[0mexceptions\u001b[0m\u001b[1;33m.\u001b[0m\u001b[0mConnectTimeout\u001b[0m \u001b[1;32mas\u001b[0m \u001b[0me\u001b[0m\u001b[1;33m:\u001b[0m\u001b[1;33m\u001b[0m\u001b[1;33m\u001b[0m\u001b[0m\n",
      "\u001b[1;32mC:\\ProgramData\\Anaconda3\\lib\\site-packages\\requests\\models.py\u001b[0m in \u001b[0;36mraise_for_status\u001b[1;34m(self)\u001b[0m\n\u001b[0;32m    940\u001b[0m         \u001b[1;32mif\u001b[0m \u001b[0mhttp_error_msg\u001b[0m\u001b[1;33m:\u001b[0m\u001b[1;33m\u001b[0m\u001b[1;33m\u001b[0m\u001b[0m\n\u001b[1;32m--> 941\u001b[1;33m             \u001b[1;32mraise\u001b[0m \u001b[0mHTTPError\u001b[0m\u001b[1;33m(\u001b[0m\u001b[0mhttp_error_msg\u001b[0m\u001b[1;33m,\u001b[0m \u001b[0mresponse\u001b[0m\u001b[1;33m=\u001b[0m\u001b[0mself\u001b[0m\u001b[1;33m)\u001b[0m\u001b[1;33m\u001b[0m\u001b[1;33m\u001b[0m\u001b[0m\n\u001b[0m\u001b[0;32m    942\u001b[0m \u001b[1;33m\u001b[0m\u001b[0m\n",
      "\u001b[1;31mHTTPError\u001b[0m: 429 Client Error: Too Many Requests for url: https://www.google.com/sorry/index?continue=https://translate.google.cn/_/TranslateWebserverUi/data/batchexecute&q=EgTT9EeRGOvw0IIGIhkA8aeDS591taFI0Lrzy4CkiEOKeXEyObxLMgFy",
      "\nDuring handling of the above exception, another exception occurred:\n",
      "\u001b[1;31mgoogle_new_transError\u001b[0m                     Traceback (most recent call last)",
      "\u001b[1;32m<ipython-input-4-58d0b5a14da4>\u001b[0m in \u001b[0;36m<module>\u001b[1;34m\u001b[0m\n\u001b[0;32m      1\u001b[0m \u001b[0mtrans\u001b[0m \u001b[1;33m=\u001b[0m \u001b[0mgoogle_translator\u001b[0m\u001b[1;33m(\u001b[0m\u001b[1;33m)\u001b[0m\u001b[1;33m\u001b[0m\u001b[1;33m\u001b[0m\u001b[0m\n\u001b[1;32m----> 2\u001b[1;33m \u001b[0mtrans\u001b[0m\u001b[1;33m.\u001b[0m\u001b[0mtranslate\u001b[0m\u001b[1;33m(\u001b[0m\u001b[0molist_order_reviews\u001b[0m\u001b[1;33m.\u001b[0m\u001b[0mreview_comment_message\u001b[0m\u001b[1;33m[\u001b[0m\u001b[1;36m11630\u001b[0m\u001b[1;33m]\u001b[0m\u001b[1;33m,\u001b[0m\u001b[0mlang_tgt\u001b[0m \u001b[1;33m=\u001b[0m \u001b[1;34m\"en\"\u001b[0m\u001b[1;33m,\u001b[0m \u001b[0mlang_src\u001b[0m \u001b[1;33m=\u001b[0m \u001b[1;34m\"pt\"\u001b[0m\u001b[1;33m)\u001b[0m\u001b[1;33m\u001b[0m\u001b[1;33m\u001b[0m\u001b[0m\n\u001b[0m",
      "\u001b[1;32mC:\\ProgramData\\Anaconda3\\lib\\site-packages\\google_trans_new\\google_trans_new.py\u001b[0m in \u001b[0;36mtranslate\u001b[1;34m(self, text, lang_tgt, lang_src, pronounce)\u001b[0m\n\u001b[0;32m    192\u001b[0m         \u001b[1;32mexcept\u001b[0m \u001b[0mrequests\u001b[0m\u001b[1;33m.\u001b[0m\u001b[0mexceptions\u001b[0m\u001b[1;33m.\u001b[0m\u001b[0mHTTPError\u001b[0m \u001b[1;32mas\u001b[0m \u001b[0me\u001b[0m\u001b[1;33m:\u001b[0m\u001b[1;33m\u001b[0m\u001b[1;33m\u001b[0m\u001b[0m\n\u001b[0;32m    193\u001b[0m             \u001b[1;31m# Request successful, bad response\u001b[0m\u001b[1;33m\u001b[0m\u001b[1;33m\u001b[0m\u001b[1;33m\u001b[0m\u001b[0m\n\u001b[1;32m--> 194\u001b[1;33m             \u001b[1;32mraise\u001b[0m \u001b[0mgoogle_new_transError\u001b[0m\u001b[1;33m(\u001b[0m\u001b[0mtts\u001b[0m\u001b[1;33m=\u001b[0m\u001b[0mself\u001b[0m\u001b[1;33m,\u001b[0m \u001b[0mresponse\u001b[0m\u001b[1;33m=\u001b[0m\u001b[0mr\u001b[0m\u001b[1;33m)\u001b[0m\u001b[1;33m\u001b[0m\u001b[1;33m\u001b[0m\u001b[0m\n\u001b[0m\u001b[0;32m    195\u001b[0m         \u001b[1;32mexcept\u001b[0m \u001b[0mrequests\u001b[0m\u001b[1;33m.\u001b[0m\u001b[0mexceptions\u001b[0m\u001b[1;33m.\u001b[0m\u001b[0mRequestException\u001b[0m \u001b[1;32mas\u001b[0m \u001b[0me\u001b[0m\u001b[1;33m:\u001b[0m\u001b[1;33m\u001b[0m\u001b[1;33m\u001b[0m\u001b[0m\n\u001b[0;32m    196\u001b[0m             \u001b[1;31m# Request failed\u001b[0m\u001b[1;33m\u001b[0m\u001b[1;33m\u001b[0m\u001b[1;33m\u001b[0m\u001b[0m\n",
      "\u001b[1;31mgoogle_new_transError\u001b[0m: 429 (Too Many Requests) from TTS API. Probable cause: Unknown"
     ]
    }
   ],
   "source": [
    "trans = google_translator()\n",
    "trans.translate(olist_order_reviews.review_comment_message[11630],lang_tgt = \"en\", lang_src = \"pt\")"
   ]
  },
  {
   "cell_type": "code",
   "execution_count": null,
   "id": "alike-battery",
   "metadata": {},
   "outputs": [],
   "source": [
    "olist_order_reviews_translate = olist_order_reviews.copy()\n",
    "olist_order_reviews[\"review_comment_msg_en\"] = np.nan"
   ]
  },
  {
   "cell_type": "code",
   "execution_count": null,
   "id": "organic-shield",
   "metadata": {},
   "outputs": [],
   "source": [
    "for i,s in enumerate(olist_order_reviews_translate.review_comment_message[11630:]):\n",
    "    if (i+11630)%100 ==0:\n",
    "        print(f\"[{round((i+11630)/len(olist_order_reviews_translate),2)*100}%]{i+1}행 진행 중\")\n",
    "\n",
    "    if type(s)==str:\n",
    "        try :\n",
    "            eng = trans.translate(s,lang_tgt = \"en\", lang_src = \"pt\")\n",
    "            olist_order_reviews_translate[\"review_comment_msg_en\"][i+11630] = eng\n",
    "        except :\n",
    "            pass\n",
    "    else:\n",
    "        olist_order_reviews_translate[\"review_comment_msg_en\"][i+11630] = np.nan"
   ]
  },
  {
   "cell_type": "markdown",
   "id": "enormous-church",
   "metadata": {},
   "source": [
    "# translate by kakao\n",
    "- 제한사항 : 일 번역 회수 : 5만 단어"
   ]
  },
  {
   "cell_type": "code",
   "execution_count": 14,
   "id": "other-congo",
   "metadata": {},
   "outputs": [],
   "source": [
    "import requests\n",
    "def translate_by_kakao(query, src, target):\n",
    "    url = 'https://dapi.kakao.com/v2/translation/translate'\n",
    "    header = {\"Authorization\" : \"KakaoAK {카카오 rest API Key를 적어주세요}\"}\n",
    "    data = {\"src_lang\" : src,\n",
    "            \"target_lang\" : target,\n",
    "            \"query\" : query}\n",
    "    \n",
    "    response = requests.post(url,headers = header, data = data)\n",
    "    results = response.json()['translated_text'][0][0]\n",
    "    return results"
   ]
  },
  {
   "cell_type": "code",
   "execution_count": null,
   "id": "spread-eating",
   "metadata": {},
   "outputs": [],
   "source": [
    "olist_order_reviews_translate = olist_order_reviews.copy()\n",
    "olist_order_reviews_translate[\"review_comment_msg_en\"] = np.nan\n",
    "\n",
    "for i,s in enumerate(olist_order_reviews_translate.review_comment_message[11630:]):\n",
    "    print(f\"[{round((i+11630)/len(olist_order_reviews_translate),2)*100}%]{i+1}행 진행 중\")\n",
    "    if type(s)==str:\n",
    "        "
   ]
  },
  {
   "cell_type": "code",
   "execution_count": null,
   "id": "sustained-economics",
   "metadata": {},
   "outputs": [],
   "source": [
    "olist_order_reviews_translate.to_csv(\"./data/olist_order_reviews_dataset_translate.csv\")"
   ]
  },
  {
   "cell_type": "code",
   "execution_count": 3,
   "id": "sharing-lesson",
   "metadata": {},
   "outputs": [
    {
     "name": "stderr",
     "output_type": "stream",
     "text": [
      "C:\\ProgramData\\Anaconda3\\lib\\site-packages\\IPython\\core\\interactiveshell.py:3165: DtypeWarning: Columns (8) have mixed types.Specify dtype option on import or set low_memory=False.\n",
      "  has_raised = await self.run_ast_nodes(code_ast.body, cell_name,\n"
     ]
    }
   ],
   "source": [
    "ddd = pd.read_csv(\"./data/olist_order_reviews_dataset_translate.csv\")"
   ]
  },
  {
   "cell_type": "code",
   "execution_count": 5,
   "id": "governing-boulder",
   "metadata": {},
   "outputs": [
    {
     "data": {
      "text/html": [
       "<div>\n",
       "<style scoped>\n",
       "    .dataframe tbody tr th:only-of-type {\n",
       "        vertical-align: middle;\n",
       "    }\n",
       "\n",
       "    .dataframe tbody tr th {\n",
       "        vertical-align: top;\n",
       "    }\n",
       "\n",
       "    .dataframe thead th {\n",
       "        text-align: right;\n",
       "    }\n",
       "</style>\n",
       "<table border=\"1\" class=\"dataframe\">\n",
       "  <thead>\n",
       "    <tr style=\"text-align: right;\">\n",
       "      <th></th>\n",
       "      <th>Unnamed: 0</th>\n",
       "      <th>review_id</th>\n",
       "      <th>order_id</th>\n",
       "      <th>review_score</th>\n",
       "      <th>review_comment_title</th>\n",
       "      <th>review_comment_message</th>\n",
       "      <th>review_creation_date</th>\n",
       "      <th>review_answer_timestamp</th>\n",
       "      <th>review_comment_msg_en</th>\n",
       "    </tr>\n",
       "  </thead>\n",
       "  <tbody>\n",
       "    <tr>\n",
       "      <th>52372</th>\n",
       "      <td>52372</td>\n",
       "      <td>97ca439bc427b48bc1cd7177abe71365</td>\n",
       "      <td>00010242fe8c5a6d1ba2dd792cb16214</td>\n",
       "      <td>5</td>\n",
       "      <td>NaN</td>\n",
       "      <td>Perfeito, produto entregue antes do combinado.</td>\n",
       "      <td>2017-09-21 00:00:00</td>\n",
       "      <td>2017-09-22 10:57:03</td>\n",
       "      <td>NaN</td>\n",
       "    </tr>\n",
       "  </tbody>\n",
       "</table>\n",
       "</div>"
      ],
      "text/plain": [
       "       Unnamed: 0                         review_id  \\\n",
       "52372       52372  97ca439bc427b48bc1cd7177abe71365   \n",
       "\n",
       "                               order_id  review_score review_comment_title  \\\n",
       "52372  00010242fe8c5a6d1ba2dd792cb16214             5                  NaN   \n",
       "\n",
       "                               review_comment_message review_creation_date  \\\n",
       "52372  Perfeito, produto entregue antes do combinado.  2017-09-21 00:00:00   \n",
       "\n",
       "      review_answer_timestamp review_comment_msg_en  \n",
       "52372     2017-09-22 10:57:03                   NaN  "
      ]
     },
     "execution_count": 5,
     "metadata": {},
     "output_type": "execute_result"
    }
   ],
   "source": [
    "ddd[ddd.order_id==\"00010242fe8c5a6d1ba2dd792cb16214\"]"
   ]
  }
 ],
 "metadata": {
  "kernelspec": {
   "display_name": "Python 3",
   "language": "python",
   "name": "python3"
  },
  "language_info": {
   "codemirror_mode": {
    "name": "ipython",
    "version": 3
   },
   "file_extension": ".py",
   "mimetype": "text/x-python",
   "name": "python",
   "nbconvert_exporter": "python",
   "pygments_lexer": "ipython3",
   "version": "3.8.3"
  },
  "toc": {
   "base_numbering": 1,
   "nav_menu": {},
   "number_sections": true,
   "sideBar": true,
   "skip_h1_title": false,
   "title_cell": "Table of Contents",
   "title_sidebar": "Contents",
   "toc_cell": false,
   "toc_position": {},
   "toc_section_display": true,
   "toc_window_display": false
  }
 },
 "nbformat": 4,
 "nbformat_minor": 5
}
