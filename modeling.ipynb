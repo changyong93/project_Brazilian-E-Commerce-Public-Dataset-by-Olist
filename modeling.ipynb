{
 "cells": [
  {
   "cell_type": "code",
   "execution_count": 2,
   "id": "living-picture",
   "metadata": {},
   "outputs": [],
   "source": [
    "import pandas as pd\n",
    "import missingno as ms\n",
    "import numpy as np\n",
    "import seaborn as sns\n",
    "import datetime as dt\n",
    "import matplotlib.pyplot as plt\n",
    "\n",
    "from sklearn.model_selection import train_test_split"
   ]
  },
  {
   "cell_type": "markdown",
   "id": "wired-payroll",
   "metadata": {},
   "source": [
    "# 데이터 불러오기"
   ]
  },
  {
   "cell_type": "code",
   "execution_count": 3,
   "id": "adult-intellectual",
   "metadata": {},
   "outputs": [],
   "source": [
    "df_new = pd.read_excel(\"df_model_new.xlsx\")\n",
    "df_origin = pd.read_excel(\"df_model_origin.xlsx\")"
   ]
  },
  {
   "cell_type": "code",
   "execution_count": 4,
   "id": "attended-hepatitis",
   "metadata": {},
   "outputs": [
    {
     "data": {
      "text/html": [
       "<div>\n",
       "<style scoped>\n",
       "    .dataframe tbody tr th:only-of-type {\n",
       "        vertical-align: middle;\n",
       "    }\n",
       "\n",
       "    .dataframe tbody tr th {\n",
       "        vertical-align: top;\n",
       "    }\n",
       "\n",
       "    .dataframe thead th {\n",
       "        text-align: right;\n",
       "    }\n",
       "</style>\n",
       "<table border=\"1\" class=\"dataframe\">\n",
       "  <thead>\n",
       "    <tr style=\"text-align: right;\">\n",
       "      <th></th>\n",
       "      <th>review_score</th>\n",
       "      <th>low_review_score_rate</th>\n",
       "      <th>year_month</th>\n",
       "      <th>seller_id</th>\n",
       "      <th>rating</th>\n",
       "      <th>product_category_upper</th>\n",
       "      <th>seller_state</th>\n",
       "      <th>seles_by_OrderNumber</th>\n",
       "      <th>sales</th>\n",
       "      <th>order_nb</th>\n",
       "      <th>delivery_delay_new</th>\n",
       "      <th>delivery_periods_new</th>\n",
       "      <th>delivery_preparation_new</th>\n",
       "      <th>error_rate_based_on_CI</th>\n",
       "      <th>error_rate_based_on_estimated</th>\n",
       "      <th>rate_canceled</th>\n",
       "      <th>canceled_rate_rolling</th>\n",
       "      <th>error_rate_based_on_CI_rolling</th>\n",
       "      <th>error_rate_based_on_estimated_rolling</th>\n",
       "    </tr>\n",
       "  </thead>\n",
       "  <tbody>\n",
       "    <tr>\n",
       "      <th>0</th>\n",
       "      <td>4.200000</td>\n",
       "      <td>20.0</td>\n",
       "      <td>2017-01-01</td>\n",
       "      <td>004c9cd9d87a3c30c522c48c4fc07416</td>\n",
       "      <td>0</td>\n",
       "      <td>home_living</td>\n",
       "      <td>SP</td>\n",
       "      <td>140.574000</td>\n",
       "      <td>702.87</td>\n",
       "      <td>5.0</td>\n",
       "      <td>-19.000000</td>\n",
       "      <td>16.4</td>\n",
       "      <td>0.400000</td>\n",
       "      <td>20.0</td>\n",
       "      <td>20.0</td>\n",
       "      <td>0.0</td>\n",
       "      <td>NaN</td>\n",
       "      <td>NaN</td>\n",
       "      <td>NaN</td>\n",
       "    </tr>\n",
       "    <tr>\n",
       "      <th>1</th>\n",
       "      <td>5.000000</td>\n",
       "      <td>0.0</td>\n",
       "      <td>2017-01-01</td>\n",
       "      <td>014c0679dd340a0e338872e7ec85666a</td>\n",
       "      <td>0</td>\n",
       "      <td>home_living</td>\n",
       "      <td>MG</td>\n",
       "      <td>128.200000</td>\n",
       "      <td>128.20</td>\n",
       "      <td>1.0</td>\n",
       "      <td>-64.000000</td>\n",
       "      <td>11.0</td>\n",
       "      <td>1.000000</td>\n",
       "      <td>0.0</td>\n",
       "      <td>0.0</td>\n",
       "      <td>0.0</td>\n",
       "      <td>NaN</td>\n",
       "      <td>NaN</td>\n",
       "      <td>NaN</td>\n",
       "    </tr>\n",
       "    <tr>\n",
       "      <th>2</th>\n",
       "      <td>5.000000</td>\n",
       "      <td>0.0</td>\n",
       "      <td>2017-01-01</td>\n",
       "      <td>01cf7e3d21494c41fb86034f2e714fa1</td>\n",
       "      <td>0</td>\n",
       "      <td>home_appliances</td>\n",
       "      <td>PR</td>\n",
       "      <td>227.425000</td>\n",
       "      <td>909.70</td>\n",
       "      <td>4.0</td>\n",
       "      <td>118.000000</td>\n",
       "      <td>154.5</td>\n",
       "      <td>2.000000</td>\n",
       "      <td>25.0</td>\n",
       "      <td>25.0</td>\n",
       "      <td>0.0</td>\n",
       "      <td>NaN</td>\n",
       "      <td>NaN</td>\n",
       "      <td>NaN</td>\n",
       "    </tr>\n",
       "    <tr>\n",
       "      <th>3</th>\n",
       "      <td>4.000000</td>\n",
       "      <td>50.0</td>\n",
       "      <td>2017-01-01</td>\n",
       "      <td>01cf7e3d21494c41fb86034f2e714fa1</td>\n",
       "      <td>0</td>\n",
       "      <td>stationery</td>\n",
       "      <td>PR</td>\n",
       "      <td>91.840000</td>\n",
       "      <td>183.68</td>\n",
       "      <td>2.0</td>\n",
       "      <td>-19.500000</td>\n",
       "      <td>6.5</td>\n",
       "      <td>1.000000</td>\n",
       "      <td>0.0</td>\n",
       "      <td>0.0</td>\n",
       "      <td>0.0</td>\n",
       "      <td>NaN</td>\n",
       "      <td>NaN</td>\n",
       "      <td>NaN</td>\n",
       "    </tr>\n",
       "    <tr>\n",
       "      <th>4</th>\n",
       "      <td>4.666667</td>\n",
       "      <td>0.0</td>\n",
       "      <td>2017-01-01</td>\n",
       "      <td>054694fa03fe82cec4b7551487331d74</td>\n",
       "      <td>0</td>\n",
       "      <td>home_appliances</td>\n",
       "      <td>SP</td>\n",
       "      <td>449.546667</td>\n",
       "      <td>1348.64</td>\n",
       "      <td>3.0</td>\n",
       "      <td>-27.666667</td>\n",
       "      <td>14.0</td>\n",
       "      <td>5.333333</td>\n",
       "      <td>0.0</td>\n",
       "      <td>0.0</td>\n",
       "      <td>0.0</td>\n",
       "      <td>NaN</td>\n",
       "      <td>NaN</td>\n",
       "      <td>NaN</td>\n",
       "    </tr>\n",
       "  </tbody>\n",
       "</table>\n",
       "</div>"
      ],
      "text/plain": [
       "   review_score  low_review_score_rate year_month  \\\n",
       "0      4.200000                   20.0 2017-01-01   \n",
       "1      5.000000                    0.0 2017-01-01   \n",
       "2      5.000000                    0.0 2017-01-01   \n",
       "3      4.000000                   50.0 2017-01-01   \n",
       "4      4.666667                    0.0 2017-01-01   \n",
       "\n",
       "                          seller_id  rating product_category_upper  \\\n",
       "0  004c9cd9d87a3c30c522c48c4fc07416       0            home_living   \n",
       "1  014c0679dd340a0e338872e7ec85666a       0            home_living   \n",
       "2  01cf7e3d21494c41fb86034f2e714fa1       0        home_appliances   \n",
       "3  01cf7e3d21494c41fb86034f2e714fa1       0             stationery   \n",
       "4  054694fa03fe82cec4b7551487331d74       0        home_appliances   \n",
       "\n",
       "  seller_state  seles_by_OrderNumber    sales  order_nb  delivery_delay_new  \\\n",
       "0           SP            140.574000   702.87       5.0          -19.000000   \n",
       "1           MG            128.200000   128.20       1.0          -64.000000   \n",
       "2           PR            227.425000   909.70       4.0          118.000000   \n",
       "3           PR             91.840000   183.68       2.0          -19.500000   \n",
       "4           SP            449.546667  1348.64       3.0          -27.666667   \n",
       "\n",
       "   delivery_periods_new  delivery_preparation_new  error_rate_based_on_CI  \\\n",
       "0                  16.4                  0.400000                    20.0   \n",
       "1                  11.0                  1.000000                     0.0   \n",
       "2                 154.5                  2.000000                    25.0   \n",
       "3                   6.5                  1.000000                     0.0   \n",
       "4                  14.0                  5.333333                     0.0   \n",
       "\n",
       "   error_rate_based_on_estimated  rate_canceled  canceled_rate_rolling  \\\n",
       "0                           20.0            0.0                    NaN   \n",
       "1                            0.0            0.0                    NaN   \n",
       "2                           25.0            0.0                    NaN   \n",
       "3                            0.0            0.0                    NaN   \n",
       "4                            0.0            0.0                    NaN   \n",
       "\n",
       "   error_rate_based_on_CI_rolling  error_rate_based_on_estimated_rolling  \n",
       "0                             NaN                                    NaN  \n",
       "1                             NaN                                    NaN  \n",
       "2                             NaN                                    NaN  \n",
       "3                             NaN                                    NaN  \n",
       "4                             NaN                                    NaN  "
      ]
     },
     "execution_count": 4,
     "metadata": {},
     "output_type": "execute_result"
    }
   ],
   "source": [
    "df = df_new.copy()\n",
    "df.head(5)"
   ]
  },
  {
   "cell_type": "markdown",
   "id": "featured-arctic",
   "metadata": {},
   "source": [
    "# 데이터 확인"
   ]
  },
  {
   "cell_type": "markdown",
   "id": "fifth-highway",
   "metadata": {},
   "source": [
    "## 결측치 확인"
   ]
  },
  {
   "cell_type": "code",
   "execution_count": 5,
   "id": "capable-patient",
   "metadata": {},
   "outputs": [
    {
     "data": {
      "text/plain": [
       "<AxesSubplot:>"
      ]
     },
     "execution_count": 5,
     "metadata": {},
     "output_type": "execute_result"
    },
    {
     "data": {
      "image/png": "[encoded data removed]",
      "text/plain": [
       "<Figure size 1800x720 with 2 Axes>"
      ]
     },
     "metadata": {
      "needs_background": "light"
     },
     "output_type": "display_data"
    }
   ],
   "source": [
    "ms.missingno.matrix(df)"
   ]
  },
  {
   "cell_type": "markdown",
   "id": "extended-sheet",
   "metadata": {},
   "source": [
    "## 범주형, 연속형 컬럼 분리 및 데이터타입 변경"
   ]
  },
  {
   "cell_type": "code",
   "execution_count": 6,
   "id": "minus-compilation",
   "metadata": {},
   "outputs": [
    {
     "data": {
      "text/plain": [
       "19"
      ]
     },
     "execution_count": 6,
     "metadata": {},
     "output_type": "execute_result"
    }
   ],
   "source": [
    "len(df.columns)"
   ]
  },
  {
   "cell_type": "code",
   "execution_count": 7,
   "id": "subsequent-bernard",
   "metadata": {},
   "outputs": [
    {
     "data": {
      "text/plain": [
       "Index(['review_score', 'low_review_score_rate', 'year_month', 'seller_id',\n",
       "       'rating', 'product_category_upper', 'seller_state',\n",
       "       'seles_by_OrderNumber', 'sales', 'order_nb', 'delivery_delay_new',\n",
       "       'delivery_periods_new', 'delivery_preparation_new',\n",
       "       'error_rate_based_on_CI', 'error_rate_based_on_estimated',\n",
       "       'rate_canceled', 'canceled_rate_rolling',\n",
       "       'error_rate_based_on_CI_rolling',\n",
       "       'error_rate_based_on_estimated_rolling'],\n",
       "      dtype='object')"
      ]
     },
     "execution_count": 7,
     "metadata": {},
     "output_type": "execute_result"
    }
   ],
   "source": [
    "df.columns"
   ]
  },
  {
   "cell_type": "code",
   "execution_count": 8,
   "id": "starting-grenada",
   "metadata": {},
   "outputs": [],
   "source": [
    "cat_col = [\"product_category_upper\",\"rating\",\"seller_state\"] #year_month 제외, #seller_id\n",
    "num_col = [\"sales\",\"order_nb\",\"seles_by_OrderNumber\",\"delivery_delay_new\",\"delivery_periods_new\",\"delivery_preparation_new\",\n",
    "           \"error_rate_based_on_CI\",\"error_rate_based_on_estimated\",\"rate_canceled\",\n",
    "           \"error_rate_based_on_CI_rolling\",\"error_rate_based_on_estimated_rolling\",\"canceled_rate_rolling\"]\n",
    "y_col = [\"low_review_score_rate\"]\n",
    "# y_col = [\"review_score\"]\n",
    "\n",
    "df_model = df[y_col + num_col + cat_col].copy()"
   ]
  },
  {
   "cell_type": "code",
   "execution_count": 9,
   "id": "certified-punch",
   "metadata": {},
   "outputs": [
    {
     "name": "stdout",
     "output_type": "stream",
     "text": [
      "<class 'pandas.core.frame.DataFrame'>\n",
      "RangeIndex: 21613 entries, 0 to 21612\n",
      "Data columns (total 19 columns):\n",
      " #   Column                                 Non-Null Count  Dtype         \n",
      "---  ------                                 --------------  -----         \n",
      " 0   review_score                           21613 non-null  float64       \n",
      " 1   low_review_score_rate                  21613 non-null  float64       \n",
      " 2   year_month                             21613 non-null  datetime64[ns]\n",
      " 3   seller_id                              21613 non-null  object        \n",
      " 4   rating                                 21613 non-null  int64         \n",
      " 5   product_category_upper                 21613 non-null  object        \n",
      " 6   seller_state                           21613 non-null  object        \n",
      " 7   seles_by_OrderNumber                   21607 non-null  float64       \n",
      " 8   sales                                  21607 non-null  float64       \n",
      " 9   order_nb                               21607 non-null  float64       \n",
      " 10  delivery_delay_new                     21607 non-null  float64       \n",
      " 11  delivery_periods_new                   21607 non-null  float64       \n",
      " 12  delivery_preparation_new               21607 non-null  float64       \n",
      " 13  error_rate_based_on_CI                 21607 non-null  float64       \n",
      " 14  error_rate_based_on_estimated          21607 non-null  float64       \n",
      " 15  rate_canceled                          21613 non-null  float64       \n",
      " 16  canceled_rate_rolling                  17866 non-null  float64       \n",
      " 17  error_rate_based_on_CI_rolling         17865 non-null  float64       \n",
      " 18  error_rate_based_on_estimated_rolling  17865 non-null  float64       \n",
      "dtypes: datetime64[ns](1), float64(14), int64(1), object(3)\n",
      "memory usage: 3.1+ MB\n"
     ]
    }
   ],
   "source": [
    "df.info()"
   ]
  },
  {
   "cell_type": "code",
   "execution_count": 11,
   "id": "generous-panel",
   "metadata": {},
   "outputs": [
    {
     "name": "stdout",
     "output_type": "stream",
     "text": [
      "<class 'pandas.core.frame.DataFrame'>\n",
      "RangeIndex: 21613 entries, 0 to 21612\n",
      "Data columns (total 16 columns):\n",
      " #   Column                                 Non-Null Count  Dtype   \n",
      "---  ------                                 --------------  -----   \n",
      " 0   low_review_score_rate                  21613 non-null  float64 \n",
      " 1   sales                                  21607 non-null  float64 \n",
      " 2   order_nb                               21607 non-null  float64 \n",
      " 3   seles_by_OrderNumber                   21607 non-null  float64 \n",
      " 4   delivery_delay_new                     21607 non-null  float64 \n",
      " 5   delivery_periods_new                   21607 non-null  float64 \n",
      " 6   delivery_preparation_new               21607 non-null  float64 \n",
      " 7   error_rate_based_on_CI                 21607 non-null  float64 \n",
      " 8   error_rate_based_on_estimated          21607 non-null  float64 \n",
      " 9   rate_canceled                          21613 non-null  float64 \n",
      " 10  error_rate_based_on_CI_rolling         17865 non-null  float64 \n",
      " 11  error_rate_based_on_estimated_rolling  17865 non-null  float64 \n",
      " 12  canceled_rate_rolling                  17866 non-null  float64 \n",
      " 13  product_category_upper                 21613 non-null  category\n",
      " 14  rating                                 21613 non-null  category\n",
      " 15  seller_state                           21613 non-null  category\n",
      "dtypes: category(3), float64(13)\n",
      "memory usage: 2.2 MB\n"
     ]
    }
   ],
   "source": [
    "df_model[cat_col] = df[cat_col].astype(\"category\")\n",
    "df_model.info()"
   ]
  },
  {
   "cell_type": "code",
   "execution_count": 39,
   "id": "turkish-circular",
   "metadata": {},
   "outputs": [
    {
     "data": {
      "text/plain": [
       "review_score                                0\n",
       "low_review_score_rate                       0\n",
       "year_month                                  0\n",
       "seller_id                                   0\n",
       "rating                                      0\n",
       "product_category_upper                      0\n",
       "seller_state                                0\n",
       "seles_by_OrderNumber                        6\n",
       "sales                                       6\n",
       "order_nb                                    6\n",
       "delivery_delay                              6\n",
       "delivery_periods                            6\n",
       "delivery_preparation                        6\n",
       "error_rate_based_on_CI                      6\n",
       "error_rate_based_on_estimated               6\n",
       "rate_canceled                               0\n",
       "canceled_rate_rolling                    3747\n",
       "error_rate_based_on_CI_rolling           3748\n",
       "error_rate_based_on_estimated_rolling    3748\n",
       "dtype: int64"
      ]
     },
     "execution_count": 39,
     "metadata": {},
     "output_type": "execute_result"
    }
   ],
   "source": [
    "df.isnull().sum()"
   ]
  },
  {
   "cell_type": "code",
   "execution_count": 28,
   "id": "champion-pressure",
   "metadata": {},
   "outputs": [
    {
     "data": {
      "text/plain": [
       "0         20.0\n",
       "1          0.0\n",
       "2          0.0\n",
       "3         50.0\n",
       "4          0.0\n",
       "         ...  \n",
       "21608    100.0\n",
       "21609    100.0\n",
       "21610    100.0\n",
       "21611    100.0\n",
       "21612      0.0\n",
       "Name: low_review_score_rate, Length: 21613, dtype: float64"
      ]
     },
     "execution_count": 28,
     "metadata": {},
     "output_type": "execute_result"
    }
   ],
   "source": []
  },
  {
   "cell_type": "code",
   "execution_count": 29,
   "id": "developmental-search",
   "metadata": {},
   "outputs": [],
   "source": [
    "X = df_model.drop(y_col,axis=1)\n",
    "# y = df_model[y_col].tolist()\n",
    "y = df_model.low_review_score_rate.copy()\n",
    "\n",
    "X_train, X_test, y_train, y_test = train_test_split(X,y, test_size=0.5, random_state=0)"
   ]
  },
  {
   "cell_type": "code",
   "execution_count": 16,
   "id": "reported-treasurer",
   "metadata": {},
   "outputs": [],
   "source": [
    "from sklearn.impute import SimpleImputer\n",
    "from sklearn.inspection import permutation_importance\n",
    "from sklearn.compose import ColumnTransformer\n",
    "from sklearn.model_selection import train_test_split\n",
    "from sklearn.pipeline import Pipeline\n",
    "from sklearn.preprocessing import OneHotEncoder"
   ]
  },
  {
   "cell_type": "code",
   "execution_count": 33,
   "id": "mysterious-programmer",
   "metadata": {},
   "outputs": [
    {
     "data": {
      "text/plain": [
       "Pipeline(steps=[('preprocess',\n",
       "                 ColumnTransformer(transformers=[('cat',\n",
       "                                                  OneHotEncoder(handle_unknown='ignore'),\n",
       "                                                  ['product_category_upper',\n",
       "                                                   'rating', 'seller_state']),\n",
       "                                                 ('num',\n",
       "                                                  Pipeline(steps=[('imputer',\n",
       "                                                                   SimpleImputer())]),\n",
       "                                                  ['sales', 'order_nb',\n",
       "                                                   'seles_by_OrderNumber',\n",
       "                                                   'delivery_delay_new',\n",
       "                                                   'delivery_periods_new',\n",
       "                                                   'delivery_preparation_new',\n",
       "                                                   'error_rate_based_on_CI',\n",
       "                                                   'error_rate_based_on_estimated',\n",
       "                                                   'rate_canceled',\n",
       "                                                   'error_rate_based_on_CI_rolling',\n",
       "                                                   'error_rate_based_on_estimated_rolling',\n",
       "                                                   'canceled_rate_rolling'])])),\n",
       "                ('classifier', LGBMRegressor(random_state=0))])"
      ]
     },
     "execution_count": 33,
     "metadata": {},
     "output_type": "execute_result"
    }
   ],
   "source": [
    "X_train, X_test, y_train, y_test = train_test_split(\n",
    "    X, y, test_size=0.5, random_state=0)\n",
    "\n",
    "categorical_encoder = OneHotEncoder(handle_unknown='ignore')\n",
    "numerical_pipe = Pipeline([\n",
    "    ('imputer', SimpleImputer(strategy='mean'))\n",
    "])\n",
    "\n",
    "preprocessing = ColumnTransformer(\n",
    "    [('cat', categorical_encoder, cat_col),\n",
    "     ('num', numerical_pipe, num_col)])\n",
    "\n",
    "rf = Pipeline([\n",
    "    ('preprocess', preprocessing),\n",
    "    ('classifier', LGBMRegressor(random_state=0))\n",
    "])\n",
    "rf.fit(X_train, y_train)"
   ]
  },
  {
   "cell_type": "code",
   "execution_count": 39,
   "id": "several-cylinder",
   "metadata": {},
   "outputs": [
    {
     "data": {
      "image/png": "[encoded data removed]",
      "text/plain": [
       "<Figure size 432x288 with 1 Axes>"
      ]
     },
     "metadata": {
      "needs_background": "light"
     },
     "output_type": "display_data"
    }
   ],
   "source": [
    "result = permutation_importance(rf, X_test, y_test, n_repeats=10, n_jobs=2)\n",
    "sorted_idx = result.importances_mean.argsort()\n",
    "\n",
    "fig, ax = plt.subplots()\n",
    "ax.boxplot(result.importances[sorted_idx].T,\n",
    "           vert=False, labels=X_test.columns[sorted_idx])\n",
    "ax.set_title(\"Permutation Importances (test set)\")\n",
    "fig.tight_layout()\n",
    "plt.show()"
   ]
  },
  {
   "cell_type": "markdown",
   "id": "swiss-globe",
   "metadata": {},
   "source": [
    "## 컬럼별 인코딩"
   ]
  },
  {
   "cell_type": "code",
   "execution_count": 43,
   "id": "recognized-airplane",
   "metadata": {},
   "outputs": [],
   "source": [
    "from sklearn.preprocessing import OneHotEncoder, StandardScaler"
   ]
  },
  {
   "cell_type": "code",
   "execution_count": 44,
   "id": "preliminary-button",
   "metadata": {},
   "outputs": [],
   "source": [
    "def proprecess(x_train, x_test):\n",
    "    tmp_x_train = x_train.reset_index(drop=True).copy()\n",
    "    tmp_x_test = x_test.reset_index(drop=True).copy()\n",
    "    \n",
    "    #num_column scaling\n",
    "    scaler = StandardScaler()\n",
    "    tmp_x_train[num_col] = scaler.fit_transform(tmp_x_train[num_col])\n",
    "    tmp_x_test[num_col] = scaler.fit_transform(tmp_x_test[num_col])\n",
    "    \n",
    "    #cat_column Onehot\n",
    "    ohe = OneHotEncoder(sparse = False) #원핫인코딩은 기본적으로 matrix를 반환해주는데 우리가 필요한 것은 array이므로 False\n",
    "    x_all = pd.concat([tmp_x_train[cat_col],tmp_x_test[cat_col]], axis = 0)\n",
    "    new_x_all = ohe.fit_transform(x_all)\n",
    "    \n",
    "    ohe_columns = []\n",
    "    for i,cat in enumerate(ohe.categories_):\n",
    "#         ohe_columns +=cat_col[i]+'_'+cat.tolist()\n",
    "        ohe_columns +=(cat_col[i]+\"_\"+cat).tolist()\n",
    "        \n",
    "#     for cat in ohe.categories_:\n",
    "#         ohe_columns +=cat.tolist()\n",
    "        \n",
    "    new_x_all = pd.DataFrame(new_x_all, columns = ohe_columns)\n",
    "    \n",
    "    new_x_train_cat = new_x_all.iloc[:tmp_x_train.shape[0], :]    \n",
    "    new_x_test_cat =  new_x_all.iloc[tmp_x_train.shape[0]:, :]  \n",
    "    \n",
    "    new_x_train_cat = new_x_train_cat.reset_index(drop=True)  \n",
    "    new_x_test_cat  = new_x_test_cat.reset_index(drop=True) \n",
    "    \n",
    "    tmp_x_train = tmp_x_train.drop(columns=cat_col) \n",
    "    tmp_x_test  = tmp_x_test.drop(columns=cat_col)  \n",
    "    \n",
    "    tmp_x_train = pd.concat([tmp_x_train, new_x_train_cat], axis=1) \n",
    "    tmp_x_test = pd.concat([tmp_x_test, new_x_test_cat], axis=1)  \n",
    "    return tmp_x_train, tmp_x_test\n",
    "\n",
    "X_train, X_test = proprecess(X_train, X_test)"
   ]
  },
  {
   "cell_type": "code",
   "execution_count": 45,
   "id": "latter-confidentiality",
   "metadata": {},
   "outputs": [
    {
     "data": {
      "text/plain": [
       "sales                                        0\n",
       "order_nb                                     0\n",
       "seles_by_OrderNumber                         0\n",
       "delivery_delay                               0\n",
       "delivery_periods                             0\n",
       "delivery_preparation                         0\n",
       "error_rate_based_on_CI                       0\n",
       "error_rate_based_on_estimated                0\n",
       "rate_canceled                                0\n",
       "error_rate_based_on_CI_rolling            1872\n",
       "error_rate_based_on_estimated_rolling     1872\n",
       "canceled_rate_rolling                     1871\n",
       "product_category_upper_agro                  0\n",
       "product_category_upper_auto                  0\n",
       "product_category_upper_baby                  0\n",
       "product_category_upper_beauty                0\n",
       "product_category_upper_book                  0\n",
       "product_category_upper_construction          0\n",
       "product_category_upper_culture               0\n",
       "product_category_upper_electronics           0\n",
       "product_category_upper_fashion               0\n",
       "product_category_upper_food_drink            0\n",
       "product_category_upper_furniture             0\n",
       "product_category_upper_games                 0\n",
       "product_category_upper_garden_tools          0\n",
       "product_category_upper_home_appliances       0\n",
       "product_category_upper_home_living           0\n",
       "product_category_upper_others                0\n",
       "product_category_upper_pet                   0\n",
       "product_category_upper_security              0\n",
       "product_category_upper_sports                0\n",
       "product_category_upper_stationery            0\n",
       "product_category_upper_telephone             0\n",
       "rating_0                                     0\n",
       "rating_10                                    0\n",
       "rating_2                                     0\n",
       "rating_4                                     0\n",
       "rating_6                                     0\n",
       "rating_8                                     0\n",
       "seller_state_AM                              0\n",
       "seller_state_BA                              0\n",
       "seller_state_CE                              0\n",
       "seller_state_DF                              0\n",
       "seller_state_ES                              0\n",
       "seller_state_GO                              0\n",
       "seller_state_MA                              0\n",
       "seller_state_MG                              0\n",
       "seller_state_MS                              0\n",
       "seller_state_MT                              0\n",
       "seller_state_PB                              0\n",
       "seller_state_PE                              0\n",
       "seller_state_PI                              0\n",
       "seller_state_PR                              0\n",
       "seller_state_RJ                              0\n",
       "seller_state_RN                              0\n",
       "seller_state_RO                              0\n",
       "seller_state_RS                              0\n",
       "seller_state_SC                              0\n",
       "seller_state_SE                              0\n",
       "seller_state_SP                              0\n",
       "dtype: int64"
      ]
     },
     "execution_count": 45,
     "metadata": {},
     "output_type": "execute_result"
    }
   ],
   "source": [
    "X_train.isnull().sum()"
   ]
  },
  {
   "cell_type": "code",
   "execution_count": 46,
   "id": "studied-finland",
   "metadata": {},
   "outputs": [],
   "source": [
    "# x_train = x_train.drop(\"year_month\",axis = 1)\n",
    "# x_test = x_test.drop(\"year_month\",axis = 1)"
   ]
  },
  {
   "cell_type": "code",
   "execution_count": 1,
   "id": "global-citation",
   "metadata": {},
   "outputs": [],
   "source": [
    "from sklearn.linear_model   import LinearRegression\n",
    "from sklearn.neural_network import MLPRegressor\n",
    "from sklearn.ensemble       import RandomForestRegressor\n",
    "from xgboost                import XGBRegressor\n",
    "from lightgbm               import LGBMRegressor\n",
    "from sklearn.metrics        import mean_squared_error, mean_absolute_percentage_error\n",
    "from sklearn.ensemble       import ExtraTreesRegressor\n",
    "from sklearn.tree           import ExtraTreeRegressor\n",
    "from sklearn.tree           import DecisionTreeRegressor\n",
    "from sklearn.ensemble       import GradientBoostingRegressor\n",
    "from sklearn.ensemble       import BaggingRegressor\n",
    "from sklearn.ensemble       import AdaBoostRegressor"
   ]
  },
  {
   "cell_type": "code",
   "execution_count": 48,
   "id": "banner-enzyme",
   "metadata": {},
   "outputs": [
    {
     "data": {
      "text/plain": [
       "Index(['sales', 'order_nb', 'seles_by_OrderNumber', 'delivery_delay',\n",
       "       'delivery_periods', 'delivery_preparation', 'error_rate_based_on_CI',\n",
       "       'error_rate_based_on_estimated', 'rate_canceled',\n",
       "       'error_rate_based_on_CI_rolling',\n",
       "       'error_rate_based_on_estimated_rolling', 'canceled_rate_rolling',\n",
       "       'product_category_upper_agro', 'product_category_upper_auto',\n",
       "       'product_category_upper_baby', 'product_category_upper_beauty',\n",
       "       'product_category_upper_book', 'product_category_upper_construction',\n",
       "       'product_category_upper_culture', 'product_category_upper_electronics',\n",
       "       'product_category_upper_fashion', 'product_category_upper_food_drink',\n",
       "       'product_category_upper_furniture', 'product_category_upper_games',\n",
       "       'product_category_upper_garden_tools',\n",
       "       'product_category_upper_home_appliances',\n",
       "       'product_category_upper_home_living', 'product_category_upper_others',\n",
       "       'product_category_upper_pet', 'product_category_upper_security',\n",
       "       'product_category_upper_sports', 'product_category_upper_stationery',\n",
       "       'product_category_upper_telephone', 'rating_0', 'rating_10', 'rating_2',\n",
       "       'rating_4', 'rating_6', 'rating_8', 'seller_state_AM',\n",
       "       'seller_state_BA', 'seller_state_CE', 'seller_state_DF',\n",
       "       'seller_state_ES', 'seller_state_GO', 'seller_state_MA',\n",
       "       'seller_state_MG', 'seller_state_MS', 'seller_state_MT',\n",
       "       'seller_state_PB', 'seller_state_PE', 'seller_state_PI',\n",
       "       'seller_state_PR', 'seller_state_RJ', 'seller_state_RN',\n",
       "       'seller_state_RO', 'seller_state_RS', 'seller_state_SC',\n",
       "       'seller_state_SE', 'seller_state_SP'],\n",
       "      dtype='object')"
      ]
     },
     "execution_count": 48,
     "metadata": {},
     "output_type": "execute_result"
    }
   ],
   "source": [
    "X_train.columns"
   ]
  },
  {
   "cell_type": "code",
   "execution_count": 33,
   "id": "increasing-battle",
   "metadata": {},
   "outputs": [
    {
     "data": {
      "text/plain": [
       "Index(['sales', 'order_nb', 'seles_by_OrderNumber', 'delivery_delay',\n",
       "       'delivery_periods', 'delivery_preparation',\n",
       "       'error_rate_based_on_estimated', 'error_rate_based_on_CI_rolling',\n",
       "       'error_rate_based_on_estimated_rolling'],\n",
       "      dtype='object')"
      ]
     },
     "execution_count": 33,
     "metadata": {},
     "output_type": "execute_result"
    }
   ],
   "source": [
    "columns = X_train.columns\n",
    "columns[select.get_support()]"
   ]
  },
  {
   "cell_type": "code",
   "execution_count": 21,
   "id": "compliant-longer",
   "metadata": {},
   "outputs": [
    {
     "data": {
      "text/plain": [
       "<AxesSubplot:xlabel='order_nb', ylabel='low_review_score_rate'>"
      ]
     },
     "execution_count": 21,
     "metadata": {},
     "output_type": "execute_result"
    },
    {
     "data": {
      "image/png": "[encoded data removed]",
      "text/plain": [
       "<Figure size 432x288 with 1 Axes>"
      ]
     },
     "metadata": {
      "needs_background": "light"
     },
     "output_type": "display_data"
    }
   ],
   "source": [
    "col1 = \"low_review_score_rate\"\n",
    "col2 = \"order_nb\"\n",
    "df[[col1,col2]].plot.scatter(x = col2,y=col1)"
   ]
  },
  {
   "cell_type": "code",
   "execution_count": 32,
   "id": "danish-tournament",
   "metadata": {},
   "outputs": [
    {
     "data": {
      "text/plain": [
       "array([ True,  True,  True,  True,  True,  True, False,  True, False,\n",
       "        True,  True, False, False, False, False, False, False, False,\n",
       "       False, False, False, False, False, False, False, False, False,\n",
       "       False, False, False, False, False, False, False, False, False,\n",
       "       False, False, False, False, False, False, False, False, False,\n",
       "       False, False, False, False, False, False, False, False, False,\n",
       "       False, False, False, False, False, False])"
      ]
     },
     "execution_count": 32,
     "metadata": {},
     "output_type": "execute_result"
    }
   ],
   "source": [
    "select.get_support()"
   ]
  },
  {
   "cell_type": "code",
   "execution_count": 22,
   "id": "funny-enforcement",
   "metadata": {},
   "outputs": [
    {
     "data": {
      "text/plain": [
       "<matplotlib.image.AxesImage at 0x212af51d4c0>"
      ]
     },
     "execution_count": 22,
     "metadata": {},
     "output_type": "execute_result"
    },
    {
     "data": {
      "image/png": "[encoded data removed]",
      "text/plain": [
       "<Figure size 1152x144 with 1 Axes>"
      ]
     },
     "metadata": {
      "needs_background": "light"
     },
     "output_type": "display_data"
    }
   ],
   "source": [
    "from sklearn.feature_selection import SelectFromModel\n",
    "select = SelectFromModel(LGBMRegressor(random_state=0, n_jobs=-1),threshold='mean')\n",
    "select.fit(X_train, y_train)\n",
    "X_train_sl = select.transform(X_train)\n",
    "look = select.get_support()\n",
    "\n",
    "plt.matshow(look.reshape(1,-1), cmap = 'summer_r')"
   ]
  },
  {
   "cell_type": "code",
   "execution_count": 52,
   "id": "coupled-chuck",
   "metadata": {},
   "outputs": [
    {
     "name": "stdout",
     "output_type": "stream",
     "text": [
      "XGBoost Model Mean Absolute Error: 1577.8216075914768\n",
      "LightGBM Model Mean Absolute Error: 889.7656082780916\n",
      "*****************************************************************\n",
      "Best Model: LightGBM, Mean Absolute Error: 889.7656082780916\n",
      "*****************************************************************\n"
     ]
    }
   ],
   "source": [
    "models = [\n",
    "#     ['Linear Regression', LinearRegression(n_jobs=-1)], \n",
    "#     ['MultiLayerPerceptron', MLPRegressor(random_state=0)],  \n",
    "#     ['RandomForest', RandomForestRegressor(random_state=0,n_jobs=-1)],\n",
    "    ['XGBoost', XGBRegressor(random_state=0, n_jobs=-1)],\n",
    "    ['LightGBM', LGBMRegressor(random_state=0,n_jobs=-1)],\n",
    "#     ['ExtraTrees', ExtraTreesRegressor(random_state=0,n_jobs=-1)],\n",
    "#     ['ExtraTree', ExtraTreeRegressor(random_state=0)],\n",
    "#     [\"Decision\", DecisionTreeRegressor(random_state=0)],\n",
    "#     ['GradientBoosting', GradientBoostingRegressor(random_state=0)],\n",
    "#     ['Bagging', BaggingRegressor(random_state=0,n_jobs=-1)],\n",
    "#     ['AdaBoost', AdaBoostRegressor(random_state=0)],\n",
    "    ]\n",
    "best_loss = np.inf\n",
    "\n",
    "for i, (name, model) in enumerate(models):\n",
    "    model.fit(X_train, y_train)\n",
    "    y_pred = model.predict(X_test)\n",
    "    current_loss = mean_squared_error(y_test, y_pred) \n",
    "    \n",
    "    if current_loss < best_loss:   \n",
    "        best_loss  = current_loss    \n",
    "        best_model = [i, name]  \n",
    "        \n",
    "    print(f'{name} Model Mean Absolute Error: {current_loss}')\n",
    "    \n",
    "print('*'*65)\n",
    "print(f'Best Model: {best_model[-1]}, Mean Absolute Error: {best_loss}')\n",
    "print('*'*65)"
   ]
  },
  {
   "cell_type": "code",
   "execution_count": null,
   "id": "fifteen-announcement",
   "metadata": {},
   "outputs": [],
   "source": [
    "model."
   ]
  },
  {
   "cell_type": "code",
   "execution_count": 53,
   "id": "described-louisville",
   "metadata": {},
   "outputs": [
    {
     "ename": "NameError",
     "evalue": "name 'y_result' is not defined",
     "output_type": "error",
     "traceback": [
      "\u001b[1;31m---------------------------------------------------------------------------\u001b[0m",
      "\u001b[1;31mNameError\u001b[0m                                 Traceback (most recent call last)",
      "\u001b[1;32m<ipython-input-53-98383ac2e70c>\u001b[0m in \u001b[0;36m<module>\u001b[1;34m\u001b[0m\n\u001b[1;32m----> 1\u001b[1;33m \u001b[0my_result\u001b[0m\u001b[1;33m.\u001b[0m\u001b[0mround\u001b[0m\u001b[1;33m(\u001b[0m\u001b[1;33m)\u001b[0m\u001b[1;33m\u001b[0m\u001b[1;33m\u001b[0m\u001b[0m\n\u001b[0m",
      "\u001b[1;31mNameError\u001b[0m: name 'y_result' is not defined"
     ]
    }
   ],
   "source": [
    "y_result.round()"
   ]
  },
  {
   "cell_type": "code",
   "execution_count": 146,
   "id": "global-gambling",
   "metadata": {},
   "outputs": [],
   "source": [
    "y_result[\"diff_score\"] = y_result.review_score - y_result.y_pred"
   ]
  },
  {
   "cell_type": "code",
   "execution_count": 152,
   "id": "oriental-adoption",
   "metadata": {},
   "outputs": [
    {
     "data": {
      "text/plain": [
       "<AxesSubplot:>"
      ]
     },
     "execution_count": 152,
     "metadata": {},
     "output_type": "execute_result"
    },
    {
     "data": {
      "image/png": "[encoded data removed]",
      "text/plain": [
       "<Figure size 1440x432 with 1 Axes>"
      ]
     },
     "metadata": {
      "needs_background": "light"
     },
     "output_type": "display_data"
    }
   ],
   "source": [
    "y_result[\"diff_score\"].reset_index(drop=True).plot(figsize = (20,6))"
   ]
  },
  {
   "cell_type": "code",
   "execution_count": 142,
   "id": "productive-saying",
   "metadata": {},
   "outputs": [
    {
     "data": {
      "text/plain": [
       "<AxesSubplot:>"
      ]
     },
     "execution_count": 142,
     "metadata": {},
     "output_type": "execute_result"
    },
    {
     "data": {
      "image/png": "[encoded data removed]",
      "text/plain": [
       "<Figure size 432x288 with 2 Axes>"
      ]
     },
     "metadata": {
      "needs_background": "light"
     },
     "output_type": "display_data"
    }
   ],
   "source": [
    "# sns.jointplot(x = y_test.low_review_score_rate, y = y_test.y_pred)\n",
    "sns.heatmap(data = y_result.reset_index(drop=True).round())"
   ]
  },
  {
   "cell_type": "markdown",
   "id": "searching-directive",
   "metadata": {},
   "source": [
    "# 모델 생성"
   ]
  },
  {
   "cell_type": "markdown",
   "id": "friendly-photograph",
   "metadata": {},
   "source": [
    "## 선형회귀"
   ]
  },
  {
   "cell_type": "code",
   "execution_count": 109,
   "id": "everyday-logic",
   "metadata": {},
   "outputs": [],
   "source": [
    "import statsmodels.api as sm"
   ]
  },
  {
   "cell_type": "code",
   "execution_count": null,
   "id": "active-bacteria",
   "metadata": {},
   "outputs": [],
   "source": [
    "sm.OLS()"
   ]
  },
  {
   "cell_type": "code",
   "execution_count": null,
   "id": "cellular-retention",
   "metadata": {},
   "outputs": [],
   "source": []
  },
  {
   "cell_type": "code",
   "execution_count": null,
   "id": "mysterious-norman",
   "metadata": {},
   "outputs": [],
   "source": []
  },
  {
   "cell_type": "code",
   "execution_count": null,
   "id": "equal-objective",
   "metadata": {},
   "outputs": [],
   "source": []
  },
  {
   "cell_type": "markdown",
   "id": "departmental-resident",
   "metadata": {},
   "source": [
    "# 보류"
   ]
  },
  {
   "cell_type": "code",
   "execution_count": 31,
   "id": "induced-nursery",
   "metadata": {},
   "outputs": [],
   "source": [
    "from scipy.stats import shapiro\n",
    "from scipy.stats import anderson\n",
    "\n",
    "k2, p = stats.normaltest(df_train[\"year\"])"
   ]
  },
  {
   "cell_type": "code",
   "execution_count": 74,
   "id": "dramatic-wrist",
   "metadata": {},
   "outputs": [
    {
     "data": {
      "text/plain": [
       "['seller_id',\n",
       " 'product_category_upper',\n",
       " 'product_category_name_english',\n",
       " 'month',\n",
       " 'year',\n",
       " 'rating',\n",
       " 'year_month']"
      ]
     },
     "execution_count": 74,
     "metadata": {},
     "output_type": "execute_result"
    }
   ],
   "source": [
    "col_cat"
   ]
  },
  {
   "cell_type": "code",
   "execution_count": 97,
   "id": "sought-manner",
   "metadata": {},
   "outputs": [
    {
     "data": {
      "text/plain": [
       "month\n",
       "6      744\n",
       "7      869\n",
       "8      998\n",
       "9     1039\n",
       "10    1076\n",
       "12    1205\n",
       "11    1388\n",
       "1     1697\n",
       "2     1919\n",
       "3     2152\n",
       "4     2349\n",
       "5     2426\n",
       "Name: seller_id, dtype: int64"
      ]
     },
     "execution_count": 97,
     "metadata": {},
     "output_type": "execute_result"
    }
   ],
   "source": [
    "df_train.groupby(\"month\").seller_id.count().sort_values()"
   ]
  },
  {
   "cell_type": "code",
   "execution_count": 71,
   "id": "sticky-disclosure",
   "metadata": {},
   "outputs": [
    {
     "data": {
      "text/plain": [
       "NormaltestResult(statistic=832.6587054991858, pvalue=1.5504560017307204e-181)"
      ]
     },
     "execution_count": 71,
     "metadata": {},
     "output_type": "execute_result"
    }
   ],
   "source": [
    "# shapiro(df_train.loc[df_train.year==2017,\"review_score\"])\n",
    "# shapiro(df_train.loc[df_train.month==5,\"review_score\"])\n",
    "stats.normaltest(df_train.loc[df_train.month==5,\"review_score\"])\n",
    "# stats.normaltest(df_train.loc[df_train.year==2017,\"review_score\"])"
   ]
  },
  {
   "cell_type": "code",
   "execution_count": 18,
   "id": "successful-mailing",
   "metadata": {},
   "outputs": [],
   "source": [
    "from scipy.stats import norm\n",
    "from scipy import stats\n",
    "from statsmodels.formula.api import ols"
   ]
  },
  {
   "cell_type": "code",
   "execution_count": 19,
   "id": "assisted-placement",
   "metadata": {},
   "outputs": [],
   "source": [
    "fit = ols('year ~ review_score',data=df_train).fit()\n",
    " \n",
    "## 이론상 잔차값 계산\n",
    "sqrt_mse = np.sqrt(fit.mse_resid) ## square root of mse\n",
    "std_res = fit.resid/sqrt_mse ## studentized residual\n",
    " \n",
    "def empirical_dist(x,samples):\n",
    "    ## x에 대응하는 경험 분포 값을 계산하는 함수\n",
    "    count = 0\n",
    "    for s in samples:\n",
    "        if s <= x:\n",
    "            count += 1\n",
    "    return count/len(samples)\n",
    " \n",
    "distance = [] ## 경험 분포 함수값과 정규분포의 누적함수 값의 차이를 담는다.\n",
    "for r in std_res:\n",
    "    diff = abs(empirical_dist(r,std_res)-norm.cdf(r))\n",
    "    distance.append(diff)\n",
    " \n",
    "## K-S 검정 통계량\n",
    "ks_stat = max(distance)"
   ]
  },
  {
   "cell_type": "code",
   "execution_count": 21,
   "id": "lonely-today",
   "metadata": {},
   "outputs": [
    {
     "data": {
      "text/plain": [
       "0       -0.849932\n",
       "1       -0.848539\n",
       "2       -0.813716\n",
       "3       -0.864016\n",
       "4       -0.877094\n",
       "           ...   \n",
       "22046    1.198939\n",
       "22050    1.214029\n",
       "22051    1.168759\n",
       "22054    1.214029\n",
       "22058    1.202711\n",
       "Length: 17862, dtype: float64"
      ]
     },
     "execution_count": 21,
     "metadata": {},
     "output_type": "execute_result"
    }
   ],
   "source": [
    "std_res"
   ]
  },
  {
   "cell_type": "code",
   "execution_count": 104,
   "id": "velvet-median",
   "metadata": {},
   "outputs": [
    {
     "data": {
      "text/plain": [
       "ShapiroResult(statistic=0.9406018257141113, pvalue=0.3253905177116394)"
      ]
     },
     "execution_count": 104,
     "metadata": {},
     "output_type": "execute_result"
    }
   ],
   "source": [
    "from scipy.stats import shapiro\n",
    "s = df_train[col_cat[0]].unique().tolist()[0]\n",
    "shapiro(df_train.loc[df_train[col_cat[0]]==s,\"review_score\"])\n",
    "# train[var]"
   ]
  },
  {
   "cell_type": "code",
   "execution_count": 52,
   "id": "burning-joyce",
   "metadata": {},
   "outputs": [],
   "source": [
    "from sklearn.preprocessing import StandardScaler, OneHotEncoder\n",
    "\n",
    "def preprocess(trainset,testset, col_cat, col_num):\n",
    "    tmp_train = trainset.copy()\n",
    "    tmp_test = testset.copy()\n",
    "    \n",
    "    #reset index\n",
    "    tmp_train = tmp_train.reset_index(drop = True)\n",
    "    tmp_test = tmp_test.reset_index(drop = True)\n",
    "    \n",
    "    #col_num scaling\n",
    "    scaler = StandardScaler()\n",
    "    tmp_train[col_num] = scaler.fit_transform(tmp_train[col_num])\n",
    "    tmp_test[col_num] = scaler.transform(tmp_test[col_num])\n",
    "    \n",
    "    #cat_col OneHot\n",
    "    onehot = OneHotEncoder(sparse=False)\n",
    "    tmp_train[col_cat] = onehot.fit_transform(tmp_train[col_cat])\n",
    "    tmp_test[col_cat] = onehot.transform(tmp_test[col_cat])\n",
    "    \n",
    "    return tmp_train[col_cat]\n",
    "    "
   ]
  },
  {
   "cell_type": "code",
   "execution_count": 69,
   "id": "incredible-relative",
   "metadata": {},
   "outputs": [
    {
     "data": {
      "text/plain": [
       "(17862, 2435)"
      ]
     },
     "execution_count": 69,
     "metadata": {},
     "output_type": "execute_result"
    }
   ],
   "source": [
    "# preprocess(trainset = df_train,testset = df_test, col_cat = col_cat, col_num = col_num)\n",
    "\n",
    "tmp_train = df_train.copy()\n",
    "tmp_test = df_test.copy()\n",
    "\n",
    "#reset index\n",
    "tmp_train = tmp_train.reset_index(drop = True)\n",
    "tmp_test = tmp_test.reset_index(drop = True)\n",
    "\n",
    "#col_num scaling\n",
    "scaler = StandardScaler()\n",
    "tmp_train[col_num] = scaler.fit_transform(tmp_train[col_num])\n",
    "tmp_test[col_num] = scaler.transform(tmp_test[col_num])\n",
    "\n",
    "# #cat_col OneHot\n",
    "onehot = OneHotEncoder(sparse=False)\n",
    "onehot.fit_transform(tmp_train[col_cat])\n",
    "# tmp_test[col_cat] = onehot.transform(tmp_test[col_cat])\n",
    "    "
   ]
  },
  {
   "cell_type": "code",
   "execution_count": 75,
   "id": "minimal-tiffany",
   "metadata": {},
   "outputs": [
    {
     "data": {
      "text/html": [
       "<div>\n",
       "<style scoped>\n",
       "    .dataframe tbody tr th:only-of-type {\n",
       "        vertical-align: middle;\n",
       "    }\n",
       "\n",
       "    .dataframe tbody tr th {\n",
       "        vertical-align: top;\n",
       "    }\n",
       "\n",
       "    .dataframe thead th {\n",
       "        text-align: right;\n",
       "    }\n",
       "</style>\n",
       "<table border=\"1\" class=\"dataframe\">\n",
       "  <thead>\n",
       "    <tr style=\"text-align: right;\">\n",
       "      <th></th>\n",
       "      <th>seller_id_0015a82c2db000af6aaaf3ae2ecb0532</th>\n",
       "      <th>seller_id_001cca7ae9ae17fb1caed9dfb1094831</th>\n",
       "      <th>seller_id_002100f778ceb8431b7a1020ff7ab48f</th>\n",
       "      <th>seller_id_004c9cd9d87a3c30c522c48c4fc07416</th>\n",
       "      <th>seller_id_00720abe85ba0859807595bbf045a33b</th>\n",
       "      <th>seller_id_00ab3eff1b5192e5f1a63bcecfee11c8</th>\n",
       "      <th>seller_id_00d8b143d12632bad99c0ad66ad52825</th>\n",
       "      <th>seller_id_00ee68308b45bc5e2660cd833c3f81cc</th>\n",
       "      <th>seller_id_00fc707aaaad2d31347cf883cd2dfe10</th>\n",
       "      <th>seller_id_010543a62bd80aa422851e79a3bc7540</th>\n",
       "      <th>...</th>\n",
       "      <th>product_category_name_english_security_and_services</th>\n",
       "      <th>product_category_name_english_signaling_and_security</th>\n",
       "      <th>product_category_name_english_small_appliances</th>\n",
       "      <th>product_category_name_english_small_appliances_home_oven_and_coffee</th>\n",
       "      <th>product_category_name_english_sports_leisure</th>\n",
       "      <th>product_category_name_english_stationery</th>\n",
       "      <th>product_category_name_english_tablets_printing_image</th>\n",
       "      <th>product_category_name_english_telephony</th>\n",
       "      <th>product_category_name_english_toys</th>\n",
       "      <th>product_category_name_english_watches_gifts</th>\n",
       "    </tr>\n",
       "  </thead>\n",
       "  <tbody>\n",
       "    <tr>\n",
       "      <th>0</th>\n",
       "      <td>0</td>\n",
       "      <td>0</td>\n",
       "      <td>0</td>\n",
       "      <td>1</td>\n",
       "      <td>0</td>\n",
       "      <td>0</td>\n",
       "      <td>0</td>\n",
       "      <td>0</td>\n",
       "      <td>0</td>\n",
       "      <td>0</td>\n",
       "      <td>...</td>\n",
       "      <td>0</td>\n",
       "      <td>0</td>\n",
       "      <td>0</td>\n",
       "      <td>0</td>\n",
       "      <td>0</td>\n",
       "      <td>0</td>\n",
       "      <td>0</td>\n",
       "      <td>0</td>\n",
       "      <td>0</td>\n",
       "      <td>0</td>\n",
       "    </tr>\n",
       "    <tr>\n",
       "      <th>1</th>\n",
       "      <td>0</td>\n",
       "      <td>0</td>\n",
       "      <td>0</td>\n",
       "      <td>0</td>\n",
       "      <td>0</td>\n",
       "      <td>0</td>\n",
       "      <td>0</td>\n",
       "      <td>0</td>\n",
       "      <td>0</td>\n",
       "      <td>0</td>\n",
       "      <td>...</td>\n",
       "      <td>0</td>\n",
       "      <td>0</td>\n",
       "      <td>0</td>\n",
       "      <td>0</td>\n",
       "      <td>0</td>\n",
       "      <td>0</td>\n",
       "      <td>0</td>\n",
       "      <td>0</td>\n",
       "      <td>0</td>\n",
       "      <td>0</td>\n",
       "    </tr>\n",
       "    <tr>\n",
       "      <th>2</th>\n",
       "      <td>0</td>\n",
       "      <td>0</td>\n",
       "      <td>0</td>\n",
       "      <td>0</td>\n",
       "      <td>0</td>\n",
       "      <td>0</td>\n",
       "      <td>0</td>\n",
       "      <td>0</td>\n",
       "      <td>0</td>\n",
       "      <td>0</td>\n",
       "      <td>...</td>\n",
       "      <td>0</td>\n",
       "      <td>0</td>\n",
       "      <td>0</td>\n",
       "      <td>0</td>\n",
       "      <td>0</td>\n",
       "      <td>0</td>\n",
       "      <td>0</td>\n",
       "      <td>0</td>\n",
       "      <td>0</td>\n",
       "      <td>0</td>\n",
       "    </tr>\n",
       "    <tr>\n",
       "      <th>3</th>\n",
       "      <td>0</td>\n",
       "      <td>0</td>\n",
       "      <td>0</td>\n",
       "      <td>0</td>\n",
       "      <td>0</td>\n",
       "      <td>0</td>\n",
       "      <td>0</td>\n",
       "      <td>0</td>\n",
       "      <td>0</td>\n",
       "      <td>0</td>\n",
       "      <td>...</td>\n",
       "      <td>0</td>\n",
       "      <td>0</td>\n",
       "      <td>0</td>\n",
       "      <td>0</td>\n",
       "      <td>0</td>\n",
       "      <td>0</td>\n",
       "      <td>0</td>\n",
       "      <td>0</td>\n",
       "      <td>0</td>\n",
       "      <td>0</td>\n",
       "    </tr>\n",
       "    <tr>\n",
       "      <th>4</th>\n",
       "      <td>0</td>\n",
       "      <td>0</td>\n",
       "      <td>0</td>\n",
       "      <td>0</td>\n",
       "      <td>0</td>\n",
       "      <td>0</td>\n",
       "      <td>0</td>\n",
       "      <td>0</td>\n",
       "      <td>0</td>\n",
       "      <td>0</td>\n",
       "      <td>...</td>\n",
       "      <td>0</td>\n",
       "      <td>0</td>\n",
       "      <td>1</td>\n",
       "      <td>0</td>\n",
       "      <td>0</td>\n",
       "      <td>0</td>\n",
       "      <td>0</td>\n",
       "      <td>0</td>\n",
       "      <td>0</td>\n",
       "      <td>0</td>\n",
       "    </tr>\n",
       "    <tr>\n",
       "      <th>...</th>\n",
       "      <td>...</td>\n",
       "      <td>...</td>\n",
       "      <td>...</td>\n",
       "      <td>...</td>\n",
       "      <td>...</td>\n",
       "      <td>...</td>\n",
       "      <td>...</td>\n",
       "      <td>...</td>\n",
       "      <td>...</td>\n",
       "      <td>...</td>\n",
       "      <td>...</td>\n",
       "      <td>...</td>\n",
       "      <td>...</td>\n",
       "      <td>...</td>\n",
       "      <td>...</td>\n",
       "      <td>...</td>\n",
       "      <td>...</td>\n",
       "      <td>...</td>\n",
       "      <td>...</td>\n",
       "      <td>...</td>\n",
       "      <td>...</td>\n",
       "    </tr>\n",
       "    <tr>\n",
       "      <th>17857</th>\n",
       "      <td>0</td>\n",
       "      <td>0</td>\n",
       "      <td>0</td>\n",
       "      <td>0</td>\n",
       "      <td>0</td>\n",
       "      <td>0</td>\n",
       "      <td>0</td>\n",
       "      <td>0</td>\n",
       "      <td>0</td>\n",
       "      <td>0</td>\n",
       "      <td>...</td>\n",
       "      <td>0</td>\n",
       "      <td>0</td>\n",
       "      <td>0</td>\n",
       "      <td>0</td>\n",
       "      <td>0</td>\n",
       "      <td>0</td>\n",
       "      <td>0</td>\n",
       "      <td>0</td>\n",
       "      <td>0</td>\n",
       "      <td>0</td>\n",
       "    </tr>\n",
       "    <tr>\n",
       "      <th>17858</th>\n",
       "      <td>0</td>\n",
       "      <td>0</td>\n",
       "      <td>0</td>\n",
       "      <td>0</td>\n",
       "      <td>0</td>\n",
       "      <td>0</td>\n",
       "      <td>0</td>\n",
       "      <td>0</td>\n",
       "      <td>0</td>\n",
       "      <td>0</td>\n",
       "      <td>...</td>\n",
       "      <td>0</td>\n",
       "      <td>0</td>\n",
       "      <td>0</td>\n",
       "      <td>0</td>\n",
       "      <td>0</td>\n",
       "      <td>0</td>\n",
       "      <td>0</td>\n",
       "      <td>0</td>\n",
       "      <td>0</td>\n",
       "      <td>1</td>\n",
       "    </tr>\n",
       "    <tr>\n",
       "      <th>17859</th>\n",
       "      <td>0</td>\n",
       "      <td>0</td>\n",
       "      <td>0</td>\n",
       "      <td>0</td>\n",
       "      <td>0</td>\n",
       "      <td>0</td>\n",
       "      <td>0</td>\n",
       "      <td>0</td>\n",
       "      <td>0</td>\n",
       "      <td>0</td>\n",
       "      <td>...</td>\n",
       "      <td>0</td>\n",
       "      <td>0</td>\n",
       "      <td>0</td>\n",
       "      <td>0</td>\n",
       "      <td>0</td>\n",
       "      <td>0</td>\n",
       "      <td>0</td>\n",
       "      <td>0</td>\n",
       "      <td>0</td>\n",
       "      <td>0</td>\n",
       "    </tr>\n",
       "    <tr>\n",
       "      <th>17860</th>\n",
       "      <td>0</td>\n",
       "      <td>0</td>\n",
       "      <td>0</td>\n",
       "      <td>0</td>\n",
       "      <td>0</td>\n",
       "      <td>0</td>\n",
       "      <td>0</td>\n",
       "      <td>0</td>\n",
       "      <td>0</td>\n",
       "      <td>0</td>\n",
       "      <td>...</td>\n",
       "      <td>0</td>\n",
       "      <td>0</td>\n",
       "      <td>0</td>\n",
       "      <td>0</td>\n",
       "      <td>0</td>\n",
       "      <td>0</td>\n",
       "      <td>0</td>\n",
       "      <td>0</td>\n",
       "      <td>0</td>\n",
       "      <td>0</td>\n",
       "    </tr>\n",
       "    <tr>\n",
       "      <th>17861</th>\n",
       "      <td>0</td>\n",
       "      <td>0</td>\n",
       "      <td>0</td>\n",
       "      <td>0</td>\n",
       "      <td>0</td>\n",
       "      <td>0</td>\n",
       "      <td>0</td>\n",
       "      <td>0</td>\n",
       "      <td>0</td>\n",
       "      <td>0</td>\n",
       "      <td>...</td>\n",
       "      <td>0</td>\n",
       "      <td>0</td>\n",
       "      <td>0</td>\n",
       "      <td>0</td>\n",
       "      <td>0</td>\n",
       "      <td>0</td>\n",
       "      <td>0</td>\n",
       "      <td>0</td>\n",
       "      <td>0</td>\n",
       "      <td>0</td>\n",
       "    </tr>\n",
       "  </tbody>\n",
       "</table>\n",
       "<p>17862 rows × 2435 columns</p>\n",
       "</div>"
      ],
      "text/plain": [
       "       seller_id_0015a82c2db000af6aaaf3ae2ecb0532  \\\n",
       "0                                               0   \n",
       "1                                               0   \n",
       "2                                               0   \n",
       "3                                               0   \n",
       "4                                               0   \n",
       "...                                           ...   \n",
       "17857                                           0   \n",
       "17858                                           0   \n",
       "17859                                           0   \n",
       "17860                                           0   \n",
       "17861                                           0   \n",
       "\n",
       "       seller_id_001cca7ae9ae17fb1caed9dfb1094831  \\\n",
       "0                                               0   \n",
       "1                                               0   \n",
       "2                                               0   \n",
       "3                                               0   \n",
       "4                                               0   \n",
       "...                                           ...   \n",
       "17857                                           0   \n",
       "17858                                           0   \n",
       "17859                                           0   \n",
       "17860                                           0   \n",
       "17861                                           0   \n",
       "\n",
       "       seller_id_002100f778ceb8431b7a1020ff7ab48f  \\\n",
       "0                                               0   \n",
       "1                                               0   \n",
       "2                                               0   \n",
       "3                                               0   \n",
       "4                                               0   \n",
       "...                                           ...   \n",
       "17857                                           0   \n",
       "17858                                           0   \n",
       "17859                                           0   \n",
       "17860                                           0   \n",
       "17861                                           0   \n",
       "\n",
       "       seller_id_004c9cd9d87a3c30c522c48c4fc07416  \\\n",
       "0                                               1   \n",
       "1                                               0   \n",
       "2                                               0   \n",
       "3                                               0   \n",
       "4                                               0   \n",
       "...                                           ...   \n",
       "17857                                           0   \n",
       "17858                                           0   \n",
       "17859                                           0   \n",
       "17860                                           0   \n",
       "17861                                           0   \n",
       "\n",
       "       seller_id_00720abe85ba0859807595bbf045a33b  \\\n",
       "0                                               0   \n",
       "1                                               0   \n",
       "2                                               0   \n",
       "3                                               0   \n",
       "4                                               0   \n",
       "...                                           ...   \n",
       "17857                                           0   \n",
       "17858                                           0   \n",
       "17859                                           0   \n",
       "17860                                           0   \n",
       "17861                                           0   \n",
       "\n",
       "       seller_id_00ab3eff1b5192e5f1a63bcecfee11c8  \\\n",
       "0                                               0   \n",
       "1                                               0   \n",
       "2                                               0   \n",
       "3                                               0   \n",
       "4                                               0   \n",
       "...                                           ...   \n",
       "17857                                           0   \n",
       "17858                                           0   \n",
       "17859                                           0   \n",
       "17860                                           0   \n",
       "17861                                           0   \n",
       "\n",
       "       seller_id_00d8b143d12632bad99c0ad66ad52825  \\\n",
       "0                                               0   \n",
       "1                                               0   \n",
       "2                                               0   \n",
       "3                                               0   \n",
       "4                                               0   \n",
       "...                                           ...   \n",
       "17857                                           0   \n",
       "17858                                           0   \n",
       "17859                                           0   \n",
       "17860                                           0   \n",
       "17861                                           0   \n",
       "\n",
       "       seller_id_00ee68308b45bc5e2660cd833c3f81cc  \\\n",
       "0                                               0   \n",
       "1                                               0   \n",
       "2                                               0   \n",
       "3                                               0   \n",
       "4                                               0   \n",
       "...                                           ...   \n",
       "17857                                           0   \n",
       "17858                                           0   \n",
       "17859                                           0   \n",
       "17860                                           0   \n",
       "17861                                           0   \n",
       "\n",
       "       seller_id_00fc707aaaad2d31347cf883cd2dfe10  \\\n",
       "0                                               0   \n",
       "1                                               0   \n",
       "2                                               0   \n",
       "3                                               0   \n",
       "4                                               0   \n",
       "...                                           ...   \n",
       "17857                                           0   \n",
       "17858                                           0   \n",
       "17859                                           0   \n",
       "17860                                           0   \n",
       "17861                                           0   \n",
       "\n",
       "       seller_id_010543a62bd80aa422851e79a3bc7540  ...  \\\n",
       "0                                               0  ...   \n",
       "1                                               0  ...   \n",
       "2                                               0  ...   \n",
       "3                                               0  ...   \n",
       "4                                               0  ...   \n",
       "...                                           ...  ...   \n",
       "17857                                           0  ...   \n",
       "17858                                           0  ...   \n",
       "17859                                           0  ...   \n",
       "17860                                           0  ...   \n",
       "17861                                           0  ...   \n",
       "\n",
       "       product_category_name_english_security_and_services  \\\n",
       "0                                                      0     \n",
       "1                                                      0     \n",
       "2                                                      0     \n",
       "3                                                      0     \n",
       "4                                                      0     \n",
       "...                                                  ...     \n",
       "17857                                                  0     \n",
       "17858                                                  0     \n",
       "17859                                                  0     \n",
       "17860                                                  0     \n",
       "17861                                                  0     \n",
       "\n",
       "       product_category_name_english_signaling_and_security  \\\n",
       "0                                                      0      \n",
       "1                                                      0      \n",
       "2                                                      0      \n",
       "3                                                      0      \n",
       "4                                                      0      \n",
       "...                                                  ...      \n",
       "17857                                                  0      \n",
       "17858                                                  0      \n",
       "17859                                                  0      \n",
       "17860                                                  0      \n",
       "17861                                                  0      \n",
       "\n",
       "       product_category_name_english_small_appliances  \\\n",
       "0                                                   0   \n",
       "1                                                   0   \n",
       "2                                                   0   \n",
       "3                                                   0   \n",
       "4                                                   1   \n",
       "...                                               ...   \n",
       "17857                                               0   \n",
       "17858                                               0   \n",
       "17859                                               0   \n",
       "17860                                               0   \n",
       "17861                                               0   \n",
       "\n",
       "       product_category_name_english_small_appliances_home_oven_and_coffee  \\\n",
       "0                                                      0                     \n",
       "1                                                      0                     \n",
       "2                                                      0                     \n",
       "3                                                      0                     \n",
       "4                                                      0                     \n",
       "...                                                  ...                     \n",
       "17857                                                  0                     \n",
       "17858                                                  0                     \n",
       "17859                                                  0                     \n",
       "17860                                                  0                     \n",
       "17861                                                  0                     \n",
       "\n",
       "       product_category_name_english_sports_leisure  \\\n",
       "0                                                 0   \n",
       "1                                                 0   \n",
       "2                                                 0   \n",
       "3                                                 0   \n",
       "4                                                 0   \n",
       "...                                             ...   \n",
       "17857                                             0   \n",
       "17858                                             0   \n",
       "17859                                             0   \n",
       "17860                                             0   \n",
       "17861                                             0   \n",
       "\n",
       "       product_category_name_english_stationery  \\\n",
       "0                                             0   \n",
       "1                                             0   \n",
       "2                                             0   \n",
       "3                                             0   \n",
       "4                                             0   \n",
       "...                                         ...   \n",
       "17857                                         0   \n",
       "17858                                         0   \n",
       "17859                                         0   \n",
       "17860                                         0   \n",
       "17861                                         0   \n",
       "\n",
       "       product_category_name_english_tablets_printing_image  \\\n",
       "0                                                      0      \n",
       "1                                                      0      \n",
       "2                                                      0      \n",
       "3                                                      0      \n",
       "4                                                      0      \n",
       "...                                                  ...      \n",
       "17857                                                  0      \n",
       "17858                                                  0      \n",
       "17859                                                  0      \n",
       "17860                                                  0      \n",
       "17861                                                  0      \n",
       "\n",
       "       product_category_name_english_telephony  \\\n",
       "0                                            0   \n",
       "1                                            0   \n",
       "2                                            0   \n",
       "3                                            0   \n",
       "4                                            0   \n",
       "...                                        ...   \n",
       "17857                                        0   \n",
       "17858                                        0   \n",
       "17859                                        0   \n",
       "17860                                        0   \n",
       "17861                                        0   \n",
       "\n",
       "       product_category_name_english_toys  \\\n",
       "0                                       0   \n",
       "1                                       0   \n",
       "2                                       0   \n",
       "3                                       0   \n",
       "4                                       0   \n",
       "...                                   ...   \n",
       "17857                                   0   \n",
       "17858                                   0   \n",
       "17859                                   0   \n",
       "17860                                   0   \n",
       "17861                                   0   \n",
       "\n",
       "       product_category_name_english_watches_gifts  \n",
       "0                                                0  \n",
       "1                                                0  \n",
       "2                                                0  \n",
       "3                                                0  \n",
       "4                                                0  \n",
       "...                                            ...  \n",
       "17857                                            0  \n",
       "17858                                            1  \n",
       "17859                                            0  \n",
       "17860                                            0  \n",
       "17861                                            0  \n",
       "\n",
       "[17862 rows x 2435 columns]"
      ]
     },
     "execution_count": 75,
     "metadata": {},
     "output_type": "execute_result"
    }
   ],
   "source": [
    "pd.get_dummies(tmp_train[col_cat])"
   ]
  }
 ],
 "metadata": {
  "kernelspec": {
   "display_name": "Python 3",
   "language": "python",
   "name": "python3"
  },
  "language_info": {
   "codemirror_mode": {
    "name": "ipython",
    "version": 3
   },
   "file_extension": ".py",
   "mimetype": "text/x-python",
   "name": "python",
   "nbconvert_exporter": "python",
   "pygments_lexer": "ipython3",
   "version": "3.8.3"
  },
  "toc": {
   "base_numbering": 1,
   "nav_menu": {},
   "number_sections": true,
   "sideBar": true,
   "skip_h1_title": false,
   "title_cell": "Table of Contents",
   "title_sidebar": "Contents",
   "toc_cell": false,
   "toc_position": {
    "height": "calc(100% - 180px)",
    "left": "10px",
    "top": "150px",
    "width": "307.2px"
   },
   "toc_section_display": true,
   "toc_window_display": true
  }
 },
 "nbformat": 4,
 "nbformat_minor": 5
}
